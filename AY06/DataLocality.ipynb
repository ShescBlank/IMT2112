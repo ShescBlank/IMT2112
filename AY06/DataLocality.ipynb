{
 "cells": [
  {
   "cell_type": "markdown",
   "id": "1e4d5e01",
   "metadata": {},
   "source": [
    "# Data locality\n",
    "\n",
    " - Author: Elwin van 't Wout\n",
    " - Affiliation: Pontificia Universidad Católica de Chile\n",
    " - Date: 18-8-2023\n",
    "\n",
    "Test the efficiency of Python with different memory access."
   ]
  },
  {
   "cell_type": "code",
   "execution_count": 1,
   "id": "366bb889",
   "metadata": {},
   "outputs": [],
   "source": [
    "import numpy as np"
   ]
  },
  {
   "cell_type": "markdown",
   "id": "f68d0297",
   "metadata": {},
   "source": [
    "## Loop strides\n",
    "\n",
    "Test the influence of the stride of the loop on the efficiency. First, create a large NumPy array with random numbers. Then, perform two different sums, with the same number of operators.\n",
    "\n",
    "A loop with ```range(0,N,1)``` has elements 0, 1, 2, 3, ..., N-1.\n",
    "\n",
    "A loop with ```range(0,N*s,s)``` has elements 0, s, 2s, 3s, ..., (N-1)s.\n"
   ]
  },
  {
   "cell_type": "code",
   "execution_count": 2,
   "id": "77f64223",
   "metadata": {},
   "outputs": [],
   "source": [
    "N = 1000000\n",
    "stride = 187"
   ]
  },
  {
   "cell_type": "code",
   "execution_count": 3,
   "id": "59c4b340-1b0c-45bd-ad9c-8bfef7c547ba",
   "metadata": {},
   "outputs": [
    {
     "name": "stdout",
     "output_type": "stream",
     "text": [
      "CPU times: user 8.67 ms, sys: 9.03 ms, total: 17.7 ms\n",
      "Wall time: 14.9 ms\n"
     ]
    }
   ],
   "source": [
    "%%time\n",
    "a = np.random.rand(N)"
   ]
  },
  {
   "cell_type": "code",
   "execution_count": 4,
   "id": "00134d7f",
   "metadata": {},
   "outputs": [
    {
     "name": "stdout",
     "output_type": "stream",
     "text": [
      "109 ms ± 6.64 ms per loop (mean ± std. dev. of 7 runs, 10 loops each)\n"
     ]
    }
   ],
   "source": [
    "%%timeit\n",
    "\n",
    "sum1 = 0.0\n",
    "for n in range(0,N,1):\n",
    "    sum1 += a[n]\n"
   ]
  },
  {
   "cell_type": "code",
   "execution_count": 5,
   "id": "fb9654ce-7477-476a-98a7-caf7a74db724",
   "metadata": {},
   "outputs": [
    {
     "name": "stdout",
     "output_type": "stream",
     "text": [
      "CPU times: user 1.09 s, sys: 1.04 s, total: 2.13 s\n",
      "Wall time: 2.13 s\n"
     ]
    }
   ],
   "source": [
    "%%time\n",
    "b = np.random.rand(N*stride)"
   ]
  },
  {
   "cell_type": "code",
   "execution_count": 6,
   "id": "15e86634",
   "metadata": {},
   "outputs": [
    {
     "name": "stdout",
     "output_type": "stream",
     "text": [
      "149 ms ± 4.37 ms per loop (mean ± std. dev. of 7 runs, 10 loops each)\n"
     ]
    }
   ],
   "source": [
    "%%timeit\n",
    "\n",
    "sum2 = 0.0\n",
    "for n in range(0,N*stride,stride):\n",
    "    sum2 += b[n]\n"
   ]
  },
  {
   "cell_type": "markdown",
   "id": "ee5dd40c-eafd-4d71-ae92-9beaa206cfe4",
   "metadata": {},
   "source": [
    "This experiment shows two algorithms, each with the same number of the same operations: $N$ summations. However, the timing is different. This can only be due to different memory access."
   ]
  },
  {
   "cell_type": "markdown",
   "id": "52d00beb",
   "metadata": {},
   "source": [
    "The efficiency of a NumPy array is different than for a Python list because both store the data in diferent formats."
   ]
  },
  {
   "cell_type": "code",
   "execution_count": 7,
   "id": "2e1f06de",
   "metadata": {},
   "outputs": [
    {
     "name": "stdout",
     "output_type": "stream",
     "text": [
      "CPU times: user 49.8 s, sys: 2.87 s, total: 52.7 s\n",
      "Wall time: 52.8 s\n"
     ]
    }
   ],
   "source": [
    "%%time\n",
    "c = [np.random.rand() for n in range(N*stride)]"
   ]
  },
  {
   "cell_type": "code",
   "execution_count": 8,
   "id": "999c41b5",
   "metadata": {},
   "outputs": [
    {
     "name": "stdout",
     "output_type": "stream",
     "text": [
      "158 ms ± 9.64 ms per loop (mean ± std. dev. of 7 runs, 1 loop each)\n"
     ]
    }
   ],
   "source": [
    "%%timeit\n",
    "\n",
    "sum3 = 0.0\n",
    "for n in range(0,N*stride,stride):\n",
    "    sum3 += c[n]\n"
   ]
  },
  {
   "cell_type": "markdown",
   "id": "a8efc106-5e43-41fd-8a06-0f235c84d8c4",
   "metadata": {},
   "source": [
    "In general, it is almost always more efficient to use Numpy functionality."
   ]
  },
  {
   "cell_type": "code",
   "execution_count": 9,
   "id": "18400e83-d422-4c48-9af4-5aa2e6864e8f",
   "metadata": {},
   "outputs": [
    {
     "name": "stdout",
     "output_type": "stream",
     "text": [
      "337 µs ± 15.2 µs per loop (mean ± std. dev. of 7 runs, 1,000 loops each)\n"
     ]
    }
   ],
   "source": [
    "%%timeit\n",
    "\n",
    "sum4 = np.sum(a)\n"
   ]
  },
  {
   "cell_type": "code",
   "execution_count": 10,
   "id": "58ca5191-232a-4780-ad1d-1c1ecd15269e",
   "metadata": {},
   "outputs": [
    {
     "name": "stdout",
     "output_type": "stream",
     "text": [
      "9.11 ms ± 1.97 ms per loop (mean ± std. dev. of 7 runs, 1 loop each)\n"
     ]
    }
   ],
   "source": [
    "%%timeit\n",
    "\n",
    "sum5 = np.sum(b[::stride])\n"
   ]
  },
  {
   "cell_type": "code",
   "execution_count": 11,
   "id": "a0f83a6c",
   "metadata": {},
   "outputs": [
    {
     "name": "stdout",
     "output_type": "stream",
     "text": [
      "153 ms ± 8.51 ms per loop (mean ± std. dev. of 7 runs, 1 loop each)\n"
     ]
    }
   ],
   "source": [
    "%%timeit\n",
    "\n",
    "sum6 = np.sum(c[::stride])\n"
   ]
  },
  {
   "cell_type": "markdown",
   "id": "c8ea3c7a",
   "metadata": {},
   "source": [
    "## Summing the elements of a multi-dimensional arrays\n",
    "\n",
    "The elements of a multidimensional arrays are stored in memory as a one-dimensional ordering. Hence, the order of accessing the elements has an impact on the timing. Let us create a 3-dimensional tensor and sum all elements. Again, the different implementations all require exactly the same number of the same operators ($N^3$ summations) but the memory access is different."
   ]
  },
  {
   "cell_type": "code",
   "execution_count": 12,
   "id": "54ea1926-8578-420a-8200-b427f16b6802",
   "metadata": {},
   "outputs": [
    {
     "name": "stdout",
     "output_type": "stream",
     "text": [
      "Created a random array of shape (250, 250, 250)\n"
     ]
    }
   ],
   "source": [
    "N = 250\n",
    "\n",
    "a = np.random.rand(N,N,N)\n",
    "b = np.random.rand(N,N,N)\n",
    "c = np.random.rand(N,N,N)\n",
    "\n",
    "print(\"Created a random array of shape\",a.shape)"
   ]
  },
  {
   "cell_type": "code",
   "execution_count": 13,
   "id": "d71730a7-fda0-470f-8b9f-9727ad8f6408",
   "metadata": {},
   "outputs": [
    {
     "name": "stdout",
     "output_type": "stream",
     "text": [
      "2.39 s ± 292 ms per loop (mean ± std. dev. of 7 runs, 1 loop each)\n"
     ]
    }
   ],
   "source": [
    "%%timeit\n",
    "\n",
    "sum1 = 0.0\n",
    "for i in range(N):\n",
    "    for j in range(N):\n",
    "        for k in range(N):\n",
    "            sum1 += a[i,j,k]\n"
   ]
  },
  {
   "cell_type": "code",
   "execution_count": 14,
   "id": "bce7e19c-979a-4245-9955-b287af5251d5",
   "metadata": {},
   "outputs": [
    {
     "name": "stdout",
     "output_type": "stream",
     "text": [
      "3.44 s ± 322 ms per loop (mean ± std. dev. of 7 runs, 1 loop each)\n"
     ]
    }
   ],
   "source": [
    "%%timeit\n",
    "\n",
    "sum2 = 0.0\n",
    "for k in range(N):\n",
    "    for j in range(N):\n",
    "        for i in range(N):\n",
    "            sum2 += b[i,j,k]\n"
   ]
  },
  {
   "cell_type": "markdown",
   "id": "3aaf6986",
   "metadata": {},
   "source": [
    "Instead of using a loop, it is more efficient to use NumPy functions that are based on optimised algorithms and implementations."
   ]
  },
  {
   "cell_type": "code",
   "execution_count": 15,
   "id": "aa3d3875-8633-4745-9ed9-46047af87f6f",
   "metadata": {},
   "outputs": [
    {
     "name": "stdout",
     "output_type": "stream",
     "text": [
      "8.93 ms ± 108 µs per loop (mean ± std. dev. of 7 runs, 100 loops each)\n"
     ]
    }
   ],
   "source": [
    "%%timeit\n",
    "\n",
    "sum3 = np.sum(c)\n"
   ]
  },
  {
   "cell_type": "markdown",
   "id": "b630997a",
   "metadata": {},
   "source": [
    "## Python broadcasting\n",
    "\n",
    "NumPy has optimised implementations for many algorithms. For example, summing a constant value to all elements in an array can be done with ```a+=1```. Even though the variable ```a``` has size ```(n,)``` and ```1``` is a scalar, the algorithm works. NumPy uses *broadcasting* which means that (if possible) the summation is performed for all elements."
   ]
  },
  {
   "cell_type": "code",
   "execution_count": 16,
   "id": "40352069",
   "metadata": {},
   "outputs": [],
   "source": [
    "N = 1000000"
   ]
  },
  {
   "cell_type": "code",
   "execution_count": 17,
   "id": "a9b75dc2",
   "metadata": {},
   "outputs": [
    {
     "name": "stdout",
     "output_type": "stream",
     "text": [
      "153 ms ± 2.39 ms per loop (mean ± std. dev. of 7 runs, 10 loops each)\n"
     ]
    }
   ],
   "source": [
    "%%timeit\n",
    "\n",
    "a = np.zeros(N)\n",
    "for n in range(N):\n",
    "    a[n] += 1\n"
   ]
  },
  {
   "cell_type": "code",
   "execution_count": 18,
   "id": "ab78ac69",
   "metadata": {},
   "outputs": [
    {
     "name": "stdout",
     "output_type": "stream",
     "text": [
      "837 µs ± 52.8 µs per loop (mean ± std. dev. of 7 runs, 1,000 loops each)\n"
     ]
    }
   ],
   "source": [
    "%%timeit\n",
    "\n",
    "b = np.zeros(N)\n",
    "b += 1\n"
   ]
  },
  {
   "cell_type": "markdown",
   "id": "62814320",
   "metadata": {},
   "source": [
    "## Matrix-matrix multiplication\n",
    "\n",
    "Perform a matrix-matrix multiplication with different types of memory access."
   ]
  },
  {
   "cell_type": "code",
   "execution_count": 19,
   "id": "51ce5ced",
   "metadata": {},
   "outputs": [],
   "source": [
    "n = 500\n",
    "\n",
    "A = np.random.rand(n,n)\n",
    "B = np.random.rand(n,n)"
   ]
  },
  {
   "cell_type": "code",
   "execution_count": 20,
   "id": "c9550d0d",
   "metadata": {},
   "outputs": [
    {
     "name": "stdout",
     "output_type": "stream",
     "text": [
      "355 ms ± 22.4 ms per loop (mean ± std. dev. of 7 runs, 1 loop each)\n"
     ]
    }
   ],
   "source": [
    "%%timeit\n",
    "\n",
    "C1 = np.zeros((n,n))\n",
    "for i in range(n):\n",
    "    for j in range(n):\n",
    "        C1[i,j] = np.dot(A[i,:],B[:,j])\n"
   ]
  },
  {
   "cell_type": "code",
   "execution_count": 21,
   "id": "f4e3eca4",
   "metadata": {},
   "outputs": [
    {
     "name": "stdout",
     "output_type": "stream",
     "text": [
      "727 ms ± 28.3 ms per loop (mean ± std. dev. of 7 runs, 1 loop each)\n"
     ]
    }
   ],
   "source": [
    "%%timeit\n",
    "\n",
    "C2 = np.zeros((n,n))\n",
    "for j in range(n):\n",
    "    for k in range(n):\n",
    "        C2[:,j] += A[:,k]*B[k,j]\n"
   ]
  },
  {
   "cell_type": "code",
   "execution_count": 22,
   "id": "6e47fe63",
   "metadata": {},
   "outputs": [
    {
     "name": "stdout",
     "output_type": "stream",
     "text": [
      "539 ms ± 16.2 ms per loop (mean ± std. dev. of 7 runs, 1 loop each)\n"
     ]
    }
   ],
   "source": [
    "%%timeit\n",
    "\n",
    "C3 = np.zeros((n,n))\n",
    "for i in range(n):\n",
    "    for k in range(n):\n",
    "        C3[i,:] += A[i,k]*B[k,:]\n"
   ]
  },
  {
   "cell_type": "code",
   "execution_count": 23,
   "id": "1c9b77fa",
   "metadata": {},
   "outputs": [
    {
     "name": "stdout",
     "output_type": "stream",
     "text": [
      "3.28 ms ± 668 µs per loop (mean ± std. dev. of 7 runs, 100 loops each)\n"
     ]
    }
   ],
   "source": [
    "%%timeit\n",
    "\n",
    "C4 = A @ B\n"
   ]
  },
  {
   "cell_type": "markdown",
   "id": "cf893695",
   "metadata": {},
   "source": [
    "Consider a larger matrix size."
   ]
  },
  {
   "cell_type": "code",
   "execution_count": 24,
   "id": "5b40b11a",
   "metadata": {},
   "outputs": [
    {
     "name": "stdout",
     "output_type": "stream",
     "text": [
      "Finished the loops with order (i,j,*) in 15.621845722198486 seconds.\n",
      "Finished the loops with order (j,k,*) in 58.30747675895691 seconds.\n",
      "Finished the loops with order (i,k,*) in 15.23149061203003 seconds.\n",
      "Finished the Numpy algorithm in 0.11636805534362793 seconds.\n"
     ]
    }
   ],
   "source": [
    "import time\n",
    "\n",
    "n = 2000\n",
    "A = np.random.rand(n,n)\n",
    "B = np.random.rand(n,n)\n",
    "\n",
    "\n",
    "C1 = np.zeros((n,n))\n",
    "time_start = time.time()\n",
    "for i in range(n):\n",
    "    for j in range(n):\n",
    "        C1[i,j] = np.dot(A[i,:],B[:,j])\n",
    "time_end = time.time()\n",
    "print(\"Finished the loops with order (i,j,*) in\",time_end-time_start,\"seconds.\")\n",
    "\n",
    "C2 = np.zeros((n,n))\n",
    "time_start = time.time()\n",
    "for j in range(n):\n",
    "    for k in range(n):\n",
    "        C2[:,j] += A[:,k]*B[k,j]\n",
    "time_end = time.time()\n",
    "print(\"Finished the loops with order (j,k,*) in\",time_end-time_start,\"seconds.\")\n",
    "\n",
    "C3 = np.zeros((n,n))\n",
    "time_start = time.time()\n",
    "for i in range(n):\n",
    "    for k in range(n):\n",
    "        C3[i,:] += A[i,k]*B[k,:]\n",
    "time_end = time.time()\n",
    "print(\"Finished the loops with order (i,k,*) in\",time_end-time_start,\"seconds.\")\n",
    "\n",
    "C4 = np.zeros((n,n))\n",
    "time_start = time.time()\n",
    "C4 = A @ B\n",
    "time_end = time.time()\n",
    "print(\"Finished the Numpy algorithm in\",time_end-time_start,\"seconds.\")\n"
   ]
  },
  {
   "cell_type": "markdown",
   "id": "f3d0579c-e1b8-4cdc-89db-d018c4c9127b",
   "metadata": {
    "editable": true,
    "slideshow": {
     "slide_type": ""
    },
    "tags": []
   },
   "source": [
    "## Apending data\n",
    "\n",
    "Appending data to a Python list is efficient, but Numpy appends arrays by copying the data."
   ]
  },
  {
   "cell_type": "code",
   "execution_count": 25,
   "id": "c4a5c1cd-c4cc-4174-8277-d03bcac1f093",
   "metadata": {},
   "outputs": [],
   "source": [
    "n = 100000"
   ]
  },
  {
   "cell_type": "code",
   "execution_count": 26,
   "id": "fe12194e-0116-4f0a-bfc2-96321644ba67",
   "metadata": {},
   "outputs": [
    {
     "name": "stdout",
     "output_type": "stream",
     "text": [
      "3.57 ms ± 178 µs per loop (mean ± std. dev. of 7 runs, 100 loops each)\n"
     ]
    }
   ],
   "source": [
    "%%timeit\n",
    "\n",
    "my_list = []\n",
    "\n",
    "for i in range(n):\n",
    "    my_list.append(i)"
   ]
  },
  {
   "cell_type": "code",
   "execution_count": 27,
   "id": "d88801e1-4a1a-48e6-b775-68ce1e0998e1",
   "metadata": {},
   "outputs": [
    {
     "name": "stdout",
     "output_type": "stream",
     "text": [
      "1.66 s ± 22.5 ms per loop (mean ± std. dev. of 7 runs, 1 loop each)\n"
     ]
    }
   ],
   "source": [
    "%%timeit\n",
    "\n",
    "my_array1 = np.array([], dtype=int)\n",
    "\n",
    "for i in range(n):\n",
    "    my_array1 = np.append(my_array1, i)"
   ]
  },
  {
   "cell_type": "code",
   "execution_count": 28,
   "id": "4f8c9515-c166-4c68-aea0-84d8dd935671",
   "metadata": {},
   "outputs": [
    {
     "name": "stdout",
     "output_type": "stream",
     "text": [
      "5.76 ms ± 187 µs per loop (mean ± std. dev. of 7 runs, 100 loops each)\n"
     ]
    }
   ],
   "source": [
    "%%timeit\n",
    "\n",
    "my_array2 = np.empty(n, dtype=int)\n",
    "\n",
    "for i in range(n):\n",
    "    my_array2[i] = i"
   ]
  },
  {
   "cell_type": "code",
   "execution_count": null,
   "id": "2b7f549d-49b4-4272-9801-96339d2b63ef",
   "metadata": {},
   "outputs": [],
   "source": []
  }
 ],
 "metadata": {
  "kernelspec": {
   "display_name": "Python 3 (ipykernel)",
   "language": "python",
   "name": "python3"
  },
  "language_info": {
   "codemirror_mode": {
    "name": "ipython",
    "version": 3
   },
   "file_extension": ".py",
   "mimetype": "text/x-python",
   "name": "python",
   "nbconvert_exporter": "python",
   "pygments_lexer": "ipython3",
   "version": "3.10.6"
  }
 },
 "nbformat": 4,
 "nbformat_minor": 5
}
