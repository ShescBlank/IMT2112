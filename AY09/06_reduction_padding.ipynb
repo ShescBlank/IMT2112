{
  "cells": [
    {
      "cell_type": "markdown",
      "source": [
        "# Calculating a vector sum in PyOpenCL\n",
        "\n",
        "Elwin van 't Wout\n",
        "\n",
        "PUC Chile\n",
        "\n",
        "25-9-2024"
      ],
      "metadata": {
        "id": "TG2oWDkjHT8D"
      }
    },
    {
      "cell_type": "markdown",
      "metadata": {
        "id": "KXKZENUruGaq"
      },
      "source": [
        "Calculate the sum of a vector with OpenCL.\n",
        "\n",
        "First, we need to configure the virtual machine and install PyOpenCL."
      ]
    },
    {
      "cell_type": "code",
      "execution_count": 1,
      "metadata": {
        "colab": {
          "base_uri": "https://localhost:8080/"
        },
        "id": "8lHkgpGAuBEn",
        "outputId": "715036bd-3fb0-416f-94a0-ddec0a123434"
      },
      "outputs": [
        {
          "output_type": "stream",
          "name": "stdout",
          "text": [
            "\u001b[33m\r0% [Working]\u001b[0m\r            \rHit:1 https://cloud.r-project.org/bin/linux/ubuntu jammy-cran40/ InRelease\n",
            "Hit:2 https://developer.download.nvidia.com/compute/cuda/repos/ubuntu2204/x86_64  InRelease\n",
            "Hit:3 http://security.ubuntu.com/ubuntu jammy-security InRelease\n",
            "Hit:4 http://archive.ubuntu.com/ubuntu jammy InRelease\n",
            "Hit:5 http://archive.ubuntu.com/ubuntu jammy-updates InRelease\n",
            "Hit:6 https://ppa.launchpadcontent.net/deadsnakes/ppa/ubuntu jammy InRelease\n",
            "Hit:7 http://archive.ubuntu.com/ubuntu jammy-backports InRelease\n",
            "Hit:8 https://ppa.launchpadcontent.net/graphics-drivers/ppa/ubuntu jammy InRelease\n",
            "Ign:9 https://r2u.stat.illinois.edu/ubuntu jammy InRelease\n",
            "Hit:10 https://ppa.launchpadcontent.net/ubuntugis/ppa/ubuntu jammy InRelease\n",
            "Hit:11 https://r2u.stat.illinois.edu/ubuntu jammy Release\n",
            "Reading package lists... Done\n",
            "Building dependency tree... Done\n",
            "Reading state information... Done\n",
            "54 packages can be upgraded. Run 'apt list --upgradable' to see them.\n",
            "\u001b[1;33mW: \u001b[0mSkipping acquire of configured file 'main/source/Sources' as repository 'https://r2u.stat.illinois.edu/ubuntu jammy InRelease' does not seem to provide it (sources.list entry misspelt?)\u001b[0m\n",
            "Reading package lists... Done\n",
            "Building dependency tree... Done\n",
            "Reading state information... Done\n",
            "nvidia-cuda-toolkit is already the newest version (11.5.1-1ubuntu1).\n",
            "0 upgraded, 0 newly installed, 0 to remove and 54 not upgraded.\n",
            "Requirement already satisfied: pyopencl in /usr/local/lib/python3.10/dist-packages (2024.2.7)\n",
            "Requirement already satisfied: numpy in /usr/local/lib/python3.10/dist-packages (from pyopencl) (1.26.4)\n",
            "Requirement already satisfied: platformdirs>=2.2.0 in /usr/local/lib/python3.10/dist-packages (from pyopencl) (4.3.6)\n",
            "Requirement already satisfied: pytools>=2024.1.5 in /usr/local/lib/python3.10/dist-packages (from pyopencl) (2024.1.14)\n",
            "Requirement already satisfied: typing-extensions>=4 in /usr/local/lib/python3.10/dist-packages (from pytools>=2024.1.5->pyopencl) (4.12.2)\n"
          ]
        }
      ],
      "source": [
        "!sudo apt update\n",
        "!sudo apt install nvidia-cuda-toolkit -y\n",
        "!pip install pyopencl"
      ]
    },
    {
      "cell_type": "code",
      "execution_count": 2,
      "metadata": {
        "id": "lgP6978wudGd",
        "colab": {
          "base_uri": "https://localhost:8080/"
        },
        "outputId": "52b475ee-2f4b-4f20-c30e-f433d2b657eb"
      },
      "outputs": [
        {
          "output_type": "stream",
          "name": "stderr",
          "text": [
            "/usr/local/lib/python3.10/dist-packages/pytools/persistent_dict.py:63: RecommendedHashNotFoundWarning: Unable to import recommended hash 'siphash24.siphash13', falling back to 'hashlib.sha256'. Run 'python3 -m pip install siphash24' to install the recommended hash.\n",
            "  warn(\"Unable to import recommended hash 'siphash24.siphash13', \"\n"
          ]
        }
      ],
      "source": [
        "import numpy as np\n",
        "import pyopencl as cl\n",
        "import pyopencl.array as cl_array"
      ]
    },
    {
      "cell_type": "code",
      "execution_count": 3,
      "metadata": {
        "id": "JCIaRG2KufBQ"
      },
      "outputs": [],
      "source": [
        "ctx = cl.create_some_context()\n",
        "queue = cl.CommandQueue(ctx)"
      ]
    },
    {
      "cell_type": "code",
      "execution_count": 4,
      "metadata": {
        "colab": {
          "base_uri": "https://localhost:8080/"
        },
        "id": "i4jmqmb-j_B7",
        "outputId": "b63bcb4e-1f54-449b-9c83-c7c4c5972049"
      },
      "outputs": [
        {
          "output_type": "stream",
          "name": "stdout",
          "text": [
            "Platform name: NVIDIA CUDA\n",
            "Device name: Tesla T4\n",
            "Maximum work group size: 1024\n"
          ]
        }
      ],
      "source": [
        "platform = cl.get_platforms()[0]\n",
        "device = ctx.devices[0]\n",
        "print(\"Platform name:\", platform.name)\n",
        "print(\"Device name:\", device.name)\n",
        "print(\"Maximum work group size:\", device.max_work_group_size)"
      ]
    },
    {
      "cell_type": "markdown",
      "metadata": {
        "id": "_pv020cIuoWa"
      },
      "source": [
        "In this tutorial, we like to calculate the sum of all elements in a vector of arbitrary size. In general, the size of the vector may not be a multiple of the desired workgroup size. In that case, the algorithm needs to be adapted to facilitate arbitrary workgroup and vector sizes. One option is called 'padding'.\n",
        "\n",
        "Let us first create the kernel to calculate the sum of an integer array. See tutorial 5 for an explanation on the kernel."
      ]
    },
    {
      "cell_type": "code",
      "execution_count": 5,
      "metadata": {
        "id": "UtjvaSG-urrG"
      },
      "outputs": [],
      "source": [
        "kernel = \"\"\"\n",
        "__kernel void sum1(__global const long int *vec,\n",
        "                   __global long int *partial_sums)\n",
        "{\n",
        "  int group_size = get_local_size(0);\n",
        "  int local_id = get_local_id(0);\n",
        "  int group_id = get_group_id(0);\n",
        "  int global_id = get_global_id(0);\n",
        "\n",
        "  if (local_id == 0){\n",
        "    long int sum = 0;\n",
        "    for(int i = 0; i < group_size; i++){\n",
        "      sum += vec[global_id + i];\n",
        "    }\n",
        "    partial_sums[group_id] = sum;\n",
        "  }\n",
        "}\n",
        "__kernel void sum2(__global long int *vec,\n",
        "                   __global long int *partial_sums)\n",
        "{\n",
        "  int group_size = get_local_size(0);\n",
        "  int local_id = get_local_id(0);\n",
        "  int group_id = get_group_id(0);\n",
        "  int global_id = get_global_id(0);\n",
        "\n",
        "  int step = 2;\n",
        "  while (step <= group_size) {\n",
        "    if (local_id % step == 0) {\n",
        "      vec[global_id] += vec[global_id + step / 2];\n",
        "    }\n",
        "    barrier(CLK_GLOBAL_MEM_FENCE);\n",
        "    step *= 2;\n",
        "  }\n",
        "  if (local_id == 0){\n",
        "    partial_sums[group_id] = vec[global_id];\n",
        "  }\n",
        "}\n",
        "\"\"\""
      ]
    },
    {
      "cell_type": "code",
      "execution_count": 6,
      "metadata": {
        "id": "RKRY4_iuwy32"
      },
      "outputs": [],
      "source": [
        "prg = cl.Program(ctx, kernel).build()"
      ]
    },
    {
      "cell_type": "markdown",
      "source": [
        "The idea of 'padding' is to add dummy elements to the vector that will not change the final result. For example, if we'd like to calculate the sum of a vector, one can add an arbitrary number of elements with value zero, without changing the final result.\n",
        "\n",
        "Let us assume that we have a vector of dimension $d$ and a workgroup of size $s$. PyOpenCL needs a domain with workgroups of equal size. However, $d$ may not be a multiple of $s$. Hence, we create another vector with size $n$ such that $n \\geq d$ and $n \\mod d = 0$, that is, $n$ is a multiple of $d$. The following function provides an efficient routine to calculate the next multiple."
      ],
      "metadata": {
        "id": "W5PmWsU-CYXg"
      }
    },
    {
      "cell_type": "code",
      "source": [
        "def next_multiple(val, mul):\n",
        "    \"\"\"Return the smallest value which is larger or equal to 'val' and a multiple of 'mul'.\"\"\"\n",
        "    return -(-val // mul) * mul"
      ],
      "metadata": {
        "id": "ska0rPVSDd4o"
      },
      "execution_count": 7,
      "outputs": []
    },
    {
      "cell_type": "markdown",
      "source": [
        "For example, if we have a vector of size 100 and like to use workgroup sizes of 32, we need 4 groups to cover the dimension. Notice that $4 \\cdot 32 = 128$ is the next multiple."
      ],
      "metadata": {
        "id": "e1jxH9G1DtJ2"
      }
    },
    {
      "cell_type": "code",
      "source": [
        "print(\"The next multiple of 32 larger or equal to 100 is: \", next_multiple(100, 32))"
      ],
      "metadata": {
        "colab": {
          "base_uri": "https://localhost:8080/"
        },
        "id": "mfoOdfRsD8pa",
        "outputId": "addc1ad9-fb42-4c58-90f8-6013a17276cf"
      },
      "execution_count": 8,
      "outputs": [
        {
          "output_type": "stream",
          "name": "stdout",
          "text": [
            "The next multiple of 32 larger or equal to 100 is:  128\n"
          ]
        }
      ]
    },
    {
      "cell_type": "markdown",
      "source": [
        "Let us choose a vector size and a workgroup size."
      ],
      "metadata": {
        "id": "0m4tuU-bDjsM"
      }
    },
    {
      "cell_type": "code",
      "source": [
        "vector_size = 10000\n",
        "workgroup_size = 32"
      ],
      "metadata": {
        "id": "ml3YzUw5EO6z"
      },
      "execution_count": 9,
      "outputs": []
    },
    {
      "cell_type": "markdown",
      "source": [
        "Let us calculate the next multiple of the workgroup size larger or equal to the vector dimension. This will be the size of our thread domain."
      ],
      "metadata": {
        "id": "eiriH6agEc7V"
      }
    },
    {
      "cell_type": "code",
      "source": [
        "global_size = next_multiple(vector_size, workgroup_size)\n",
        "n_workgroups = global_size // workgroup_size\n",
        "print(\"The global size of the domain is:\", global_size)\n",
        "print(\"The number of workgroups is:\", n_workgroups)"
      ],
      "metadata": {
        "colab": {
          "base_uri": "https://localhost:8080/"
        },
        "id": "a7SE3GteEk2Z",
        "outputId": "533fd4a9-7efc-47c8-8bc0-b75303c4139d"
      },
      "execution_count": 10,
      "outputs": [
        {
          "output_type": "stream",
          "name": "stdout",
          "text": [
            "The global size of the domain is: 10016\n",
            "The number of workgroups is: 313\n"
          ]
        }
      ]
    },
    {
      "cell_type": "markdown",
      "source": [
        "Let us create a vector with $n$ values from zero to $n-1$ for which we'd like to calculate the sum of its elements."
      ],
      "metadata": {
        "id": "YX1T_i1XFMf4"
      }
    },
    {
      "cell_type": "code",
      "source": [
        "my_vector = np.arange(vector_size, dtype=np.int64)"
      ],
      "metadata": {
        "id": "KKgRPIcBFVp1"
      },
      "execution_count": 11,
      "outputs": []
    },
    {
      "cell_type": "markdown",
      "source": [
        "The essential step of the 'padding' approach is to create another vector which will be given to the PyOpenCL kernel. That is, we need to add additional zero elements to fill the vector up until reaching the desired size. Remember that appending zero elements will not change the objective: calculating the sum of the vector."
      ],
      "metadata": {
        "id": "WgpRE1MbFhNe"
      }
    },
    {
      "cell_type": "code",
      "source": [
        "padding = np.zeros(global_size - vector_size, dtype=np.int64)\n",
        "np_vector = np.concatenate((my_vector, padding))\n",
        "print(\"The size of the padded vector:\", np_vector.size)\n",
        "print(\"The elements of the last workgroup:\", np_vector[-workgroup_size:])"
      ],
      "metadata": {
        "colab": {
          "base_uri": "https://localhost:8080/"
        },
        "id": "C_X7AJ6JF0rP",
        "outputId": "6cb308d0-1e84-42ce-af9c-8b19a4e5c987"
      },
      "execution_count": 12,
      "outputs": [
        {
          "output_type": "stream",
          "name": "stdout",
          "text": [
            "The size of the padded vector: 10016\n",
            "The elements of the last workgroup: [9984 9985 9986 9987 9988 9989 9990 9991 9992 9993 9994 9995 9996 9997\n",
            " 9998 9999    0    0    0    0    0    0    0    0    0    0    0    0\n",
            "    0    0    0    0]\n"
          ]
        }
      ]
    },
    {
      "cell_type": "code",
      "source": [
        "print(\"Sum of the original vector:\", np.sum(my_vector))\n",
        "print(\"Sum of the padded vector:\", np.sum(np_vector))"
      ],
      "metadata": {
        "colab": {
          "base_uri": "https://localhost:8080/"
        },
        "id": "BcB2pNQHJJB8",
        "outputId": "db5f089c-8386-49c3-a3be-d989ec85faa4"
      },
      "execution_count": 13,
      "outputs": [
        {
          "output_type": "stream",
          "name": "stdout",
          "text": [
            "Sum of the original vector: 49995000\n",
            "Sum of the padded vector: 49995000\n"
          ]
        }
      ]
    },
    {
      "cell_type": "markdown",
      "source": [
        "We can indeed see that the new vector has zero elements in the final workgroup. These are the padded values. Now, we are ready to launch the kernel for the padded vector. Notice that we need to provide the global size of the domain, not the dimension of the vector to the program."
      ],
      "metadata": {
        "id": "M5ZOmxBbGay0"
      }
    },
    {
      "cell_type": "code",
      "execution_count": 14,
      "metadata": {
        "id": "C-ACLmhhyDbA"
      },
      "outputs": [],
      "source": [
        "cl_vector = cl_array.to_device(queue, np_vector)\n",
        "\n",
        "cl_partial_sums1 = cl_array.empty(queue, n_workgroups, dtype=np.int64)\n",
        "cl_partial_sums2 = cl_array.empty(queue, n_workgroups, dtype=np.int64)"
      ]
    },
    {
      "cell_type": "code",
      "execution_count": 15,
      "metadata": {
        "id": "8Tl44a3rK9pK"
      },
      "outputs": [],
      "source": [
        "event = prg.sum1(queue,\n",
        "                 (global_size,),\n",
        "                 (workgroup_size,),\n",
        "                 cl_vector.data,\n",
        "                 cl_partial_sums1.data\n",
        "                )"
      ]
    },
    {
      "cell_type": "code",
      "execution_count": 16,
      "metadata": {
        "id": "zOgdjPGQw05a"
      },
      "outputs": [],
      "source": [
        "event = prg.sum2(queue,\n",
        "                 (global_size,),\n",
        "                 (workgroup_size,),\n",
        "                 cl_vector.data,\n",
        "                 cl_partial_sums2.data\n",
        "                )"
      ]
    },
    {
      "cell_type": "code",
      "execution_count": 17,
      "metadata": {
        "id": "fZz_oO8L3QRN"
      },
      "outputs": [],
      "source": [
        "np_partial_sums1 = cl_partial_sums1.get()\n",
        "vector_sum1 = np.sum(np_partial_sums1)\n",
        "np_partial_sums2 = cl_partial_sums2.get()\n",
        "vector_sum2 = np.sum(np_partial_sums2)"
      ]
    },
    {
      "cell_type": "code",
      "execution_count": 18,
      "metadata": {
        "colab": {
          "base_uri": "https://localhost:8080/"
        },
        "id": "Lh1Y_6560TxT",
        "outputId": "4eb90b66-a1b0-491a-844b-02521c4a8d7d"
      },
      "outputs": [
        {
          "output_type": "stream",
          "name": "stdout",
          "text": [
            "The sum calculated by OpenCL: 49995000\n",
            "The sum calculated by OpenCL: 49995000\n",
            "The exact value of the sum:   49995000\n"
          ]
        }
      ],
      "source": [
        "print(\"The sum calculated by OpenCL:\", vector_sum1)\n",
        "print(\"The sum calculated by OpenCL:\", vector_sum2)\n",
        "print(\"The exact value of the sum:  \", vector_size*(vector_size-1)//2)"
      ]
    },
    {
      "cell_type": "markdown",
      "source": [
        "The exact value of summing values ranging from 0 to $n-1$ is explicitly known: $n(n-1)/2$. The results implemented with OpenCL are correct, indeed."
      ],
      "metadata": {
        "id": "ZPYQyfdBIABF"
      }
    }
  ],
  "metadata": {
    "accelerator": "GPU",
    "colab": {
      "provenance": []
    },
    "kernelspec": {
      "display_name": "Python 3 (ipykernel)",
      "language": "python",
      "name": "python3"
    },
    "language_info": {
      "codemirror_mode": {
        "name": "ipython",
        "version": 3
      },
      "file_extension": ".py",
      "mimetype": "text/x-python",
      "name": "python",
      "nbconvert_exporter": "python",
      "pygments_lexer": "ipython3",
      "version": "3.10.5"
    }
  },
  "nbformat": 4,
  "nbformat_minor": 0
}