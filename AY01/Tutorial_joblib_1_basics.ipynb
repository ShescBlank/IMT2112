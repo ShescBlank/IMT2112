{
 "cells": [
  {
   "attachments": {},
   "cell_type": "markdown",
   "id": "c10cb256",
   "metadata": {},
   "source": [
    "# Ayudantía 1 - Notebook 1\n",
    "### Profesor: Elwin van 't Wout\n",
    "### Ayudante: Alberto Almuna Morales (alberto.almuna@uc.cl)"
   ]
  },
  {
   "attachments": {},
   "cell_type": "markdown",
   "id": "a032fff2",
   "metadata": {},
   "source": [
    "The library ```joblib``` provides functionality for parallel computing. In this notebook, let us look into the basics of the library."
   ]
  },
  {
   "cell_type": "code",
   "execution_count": 2,
   "id": "34a5963a",
   "metadata": {},
   "outputs": [],
   "source": [
    "import numpy as np"
   ]
  },
  {
   "attachments": {},
   "cell_type": "markdown",
   "id": "834bf49b",
   "metadata": {},
   "source": [
    "The ```joblib``` library has the class ```Parallel``` which provides the basic structure for parallel computing. The class provides the functionality to create a pool of workers that can perform tasks in parallel. let us create such object."
   ]
  },
  {
   "cell_type": "code",
   "execution_count": 3,
   "id": "5225b2c9",
   "metadata": {},
   "outputs": [],
   "source": [
    "from joblib import Parallel"
   ]
  },
  {
   "cell_type": "code",
   "execution_count": 4,
   "id": "a7d9cf75",
   "metadata": {},
   "outputs": [
    {
     "name": "stdout",
     "output_type": "stream",
     "text": [
      "Parallel(n_jobs=1)\n"
     ]
    }
   ],
   "source": [
    "parallel_pool = Parallel()\n",
    "print(parallel_pool)"
   ]
  },
  {
   "attachments": {},
   "cell_type": "markdown",
   "id": "1df39af9",
   "metadata": {},
   "source": [
    "By default, the object is initialized with only a single job. This means that no parallelization will be performed, because only one worker was created. Let us specify the number of jobs explicitly upon creating the worker pool."
   ]
  },
  {
   "cell_type": "code",
   "execution_count": 5,
   "id": "89d90ff4",
   "metadata": {},
   "outputs": [
    {
     "name": "stdout",
     "output_type": "stream",
     "text": [
      "Parallel(n_jobs=2)\n"
     ]
    }
   ],
   "source": [
    "parallel_pool = Parallel(n_jobs=2)\n",
    "print(parallel_pool)"
   ]
  },
  {
   "attachments": {},
   "cell_type": "markdown",
   "id": "92f1bf4f",
   "metadata": {},
   "source": [
    "The number of workers can also be retrieved through the attribute ```n_jobs```."
   ]
  },
  {
   "cell_type": "code",
   "execution_count": 6,
   "id": "7e8d8b69",
   "metadata": {},
   "outputs": [
    {
     "name": "stdout",
     "output_type": "stream",
     "text": [
      "The number of workers is: 2\n"
     ]
    }
   ],
   "source": [
    "print(\"The number of workers is:\", parallel_pool.n_jobs)"
   ]
  },
  {
   "attachments": {},
   "cell_type": "markdown",
   "id": "dcb606d8",
   "metadata": {},
   "source": [
    "Having created a class that can create different workers, let us specify the tasks to be performed. The tasks can be specified by the decorator `delayed` from the `joblib` library. A *decorator* is a Python function that takes one function and returns another function."
   ]
  },
  {
   "cell_type": "code",
   "execution_count": 7,
   "id": "4818f706",
   "metadata": {},
   "outputs": [],
   "source": [
    "from joblib import delayed"
   ]
  },
  {
   "attachments": {},
   "cell_type": "markdown",
   "id": "9f908a53",
   "metadata": {},
   "source": [
    "Here, we will calculate the square root of different values."
   ]
  },
  {
   "cell_type": "code",
   "execution_count": 8,
   "id": "53a866e0",
   "metadata": {},
   "outputs": [],
   "source": [
    "parallel_sqrt = delayed(np.sqrt)"
   ]
  },
  {
   "attachments": {},
   "cell_type": "markdown",
   "id": "ae567efb",
   "metadata": {},
   "source": [
    "The function `parallel_sqrt` is now a function which can be interpreted by `joblib` as a parallel variant of the function `sqrt` of `Numpy`. It can be interpreted as a function that can assign the `Numpy` square-root function to the different workers in a parallel pool."
   ]
  },
  {
   "attachments": {},
   "cell_type": "markdown",
   "id": "96569b47",
   "metadata": {},
   "source": [
    "Before assigning the function to the workers, we need to specify the input variables for which the function needs to be called. Notice that we need to specify all tasks we like to perform but we do not have to specify which tasks needs to be assigned to which workers. This task assignment will be performed automatically by `joblib`."
   ]
  },
  {
   "cell_type": "code",
   "execution_count": 9,
   "id": "89160a91",
   "metadata": {},
   "outputs": [],
   "source": [
    "parallel_tasks = [parallel_sqrt(i) for i in range(10)]"
   ]
  },
  {
   "cell_type": "code",
   "execution_count": 10,
   "id": "73f44597",
   "metadata": {},
   "outputs": [
    {
     "data": {
      "text/plain": [
       "[(<ufunc 'sqrt'>, (0,), {}),\n",
       " (<ufunc 'sqrt'>, (1,), {}),\n",
       " (<ufunc 'sqrt'>, (2,), {}),\n",
       " (<ufunc 'sqrt'>, (3,), {}),\n",
       " (<ufunc 'sqrt'>, (4,), {}),\n",
       " (<ufunc 'sqrt'>, (5,), {}),\n",
       " (<ufunc 'sqrt'>, (6,), {}),\n",
       " (<ufunc 'sqrt'>, (7,), {}),\n",
       " (<ufunc 'sqrt'>, (8,), {}),\n",
       " (<ufunc 'sqrt'>, (9,), {})]"
      ]
     },
     "execution_count": 10,
     "metadata": {},
     "output_type": "execute_result"
    }
   ],
   "source": [
    "parallel_tasks"
   ]
  },
  {
   "cell_type": "code",
   "execution_count": 11,
   "id": "83316ab1",
   "metadata": {},
   "outputs": [],
   "source": [
    "array = [i for i in range(10)]\n",
    "parallel_tasks_2 = map(parallel_sqrt, array)"
   ]
  },
  {
   "attachments": {},
   "cell_type": "markdown",
   "id": "af54dc33",
   "metadata": {},
   "source": [
    "With the list of all tasks created, we can ask the parallel pool of workers to perform all tasks in parallel."
   ]
  },
  {
   "cell_type": "code",
   "execution_count": 12,
   "id": "3e401c94",
   "metadata": {},
   "outputs": [],
   "source": [
    "parallel_results = parallel_pool(parallel_tasks)"
   ]
  },
  {
   "cell_type": "code",
   "execution_count": 13,
   "id": "c91a16ec",
   "metadata": {},
   "outputs": [],
   "source": [
    "parallel_results_2 = parallel_pool(parallel_tasks_2)"
   ]
  },
  {
   "cell_type": "code",
   "execution_count": 14,
   "id": "8d961dcc",
   "metadata": {},
   "outputs": [
    {
     "name": "stdout",
     "output_type": "stream",
     "text": [
      "[0.0, 1.0, 1.4142135623730951, 1.7320508075688772, 2.0, 2.23606797749979, 2.449489742783178, 2.6457513110645907, 2.8284271247461903, 3.0]\n"
     ]
    }
   ],
   "source": [
    "print(parallel_results)"
   ]
  },
  {
   "cell_type": "code",
   "execution_count": 15,
   "id": "5b14e197",
   "metadata": {},
   "outputs": [
    {
     "name": "stdout",
     "output_type": "stream",
     "text": [
      "[0.0, 1.0, 1.4142135623730951, 1.7320508075688772, 2.0, 2.23606797749979, 2.449489742783178, 2.6457513110645907, 2.8284271247461903, 3.0]\n"
     ]
    }
   ],
   "source": [
    "print(parallel_results_2)"
   ]
  },
  {
   "cell_type": "code",
   "execution_count": 16,
   "id": "3be38762",
   "metadata": {},
   "outputs": [
    {
     "data": {
      "text/plain": [
       "True"
      ]
     },
     "execution_count": 16,
     "metadata": {},
     "output_type": "execute_result"
    }
   ],
   "source": [
    "parallel_results == parallel_results_2"
   ]
  },
  {
   "attachments": {},
   "cell_type": "markdown",
   "id": "a9889775",
   "metadata": {},
   "source": [
    "The output is indeed the square root of all input values."
   ]
  },
  {
   "attachments": {},
   "cell_type": "markdown",
   "id": "938015bd",
   "metadata": {},
   "source": [
    "### Example of function with multiple arguments:"
   ]
  },
  {
   "cell_type": "code",
   "execution_count": 17,
   "id": "291c5270",
   "metadata": {},
   "outputs": [
    {
     "name": "stdout",
     "output_type": "stream",
     "text": [
      "[5, 12, 21, 32, 45, 60, 77, 96, 117, 140]\n"
     ]
    }
   ],
   "source": [
    "def my_task(n, m):\n",
    "    return n*m\n",
    "\n",
    "n = [i for i in range(1, 11)]\n",
    "m = [i for i in range(5, 16)]\n",
    "\n",
    "tasks = [delayed(my_task)(i, j) for i, j in zip(n,m)]\n",
    "\n",
    "with Parallel(n_jobs=4) as parallel_pool:\n",
    "    parallel_results = parallel_pool(tasks)\n",
    "    print(parallel_results)"
   ]
  },
  {
   "cell_type": "code",
   "execution_count": 18,
   "id": "03a830b3",
   "metadata": {},
   "outputs": [
    {
     "name": "stdout",
     "output_type": "stream",
     "text": [
      "[5, 12, 21, 32, 45, 60, 77, 96, 117, 140]\n"
     ]
    }
   ],
   "source": [
    "tasks_2 = map(delayed(my_task), n, m)\n",
    "\n",
    "with Parallel(n_jobs=4) as parallel_pool:\n",
    "    parallel_results = parallel_pool(tasks_2)\n",
    "    print(parallel_results)"
   ]
  },
  {
   "cell_type": "code",
   "execution_count": null,
   "id": "de107ce8",
   "metadata": {},
   "outputs": [],
   "source": []
  }
 ],
 "metadata": {
  "kernelspec": {
   "display_name": "Python 3.10.4 64-bit",
   "language": "python",
   "name": "python3"
  },
  "language_info": {
   "codemirror_mode": {
    "name": "ipython",
    "version": 3
   },
   "file_extension": ".py",
   "mimetype": "text/x-python",
   "name": "python",
   "nbconvert_exporter": "python",
   "pygments_lexer": "ipython3",
   "version": "3.11.2"
  },
  "vscode": {
   "interpreter": {
    "hash": "7600a12950a547366bb7a6732117e300ffd26224351912980486e1126c5d0f9a"
   }
  }
 },
 "nbformat": 4,
 "nbformat_minor": 5
}
