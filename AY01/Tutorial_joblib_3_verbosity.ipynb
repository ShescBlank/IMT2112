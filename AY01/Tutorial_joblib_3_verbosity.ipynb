{
 "cells": [
  {
   "attachments": {},
   "cell_type": "markdown",
   "id": "1c30d8e1",
   "metadata": {},
   "source": [
    "# Ayudantía 1 - Notebook 3\n",
    "### Profesor: Elwin van 't Wout\n",
    "### Ayudante: Alberto Almuna Morales (alberto.almuna@uc.cl)"
   ]
  },
  {
   "attachments": {},
   "cell_type": "markdown",
   "id": "801f0f24",
   "metadata": {},
   "source": [
    "The library `joblib` provides functionality for parallel computing. In this notebook, let us look into the information that can be printed."
   ]
  },
  {
   "cell_type": "code",
   "execution_count": 1,
   "id": "61aa2cbe",
   "metadata": {},
   "outputs": [],
   "source": [
    "import numpy as np\n",
    "from joblib import Parallel, delayed"
   ]
  },
  {
   "attachments": {},
   "cell_type": "markdown",
   "id": "b8ee2978",
   "metadata": {},
   "source": [
    "Let us create the tasks to be performed in parallel by the workers: calculating the square root of several numbers."
   ]
  },
  {
   "cell_type": "code",
   "execution_count": 2,
   "id": "adfb598c",
   "metadata": {},
   "outputs": [],
   "source": [
    "tasks = [delayed(np.sqrt)(i) for i in range(100000)]"
   ]
  },
  {
   "attachments": {},
   "cell_type": "markdown",
   "id": "6e813b4a",
   "metadata": {},
   "source": [
    "Upon creating a `Parallel` object with `joblib`, the attribute `verbose` can be set to a number. The higher the number, the more output will be provided by the library."
   ]
  },
  {
   "cell_type": "code",
   "execution_count": 3,
   "id": "dd6db8ac",
   "metadata": {},
   "outputs": [],
   "source": [
    "with Parallel(n_jobs=2, verbose=0) as parallel_pool:\n",
    "    parallel_results = parallel_pool(tasks)"
   ]
  },
  {
   "attachments": {},
   "cell_type": "markdown",
   "id": "1debab32",
   "metadata": {},
   "source": [
    "For a value of zero, no output will be printed. Positive values provide output."
   ]
  },
  {
   "cell_type": "code",
   "execution_count": 4,
   "id": "9dcfb514",
   "metadata": {},
   "outputs": [
    {
     "name": "stderr",
     "output_type": "stream",
     "text": [
      "[Parallel(n_jobs=2)]: Using backend LokyBackend with 2 concurrent workers.\n",
      "[Parallel(n_jobs=2)]: Done 8316 tasks      | elapsed:    0.0s\n",
      "[Parallel(n_jobs=2)]: Done 100000 out of 100000 | elapsed:    0.2s finished\n"
     ]
    }
   ],
   "source": [
    "with Parallel(n_jobs=2, verbose=1) as parallel_pool:\n",
    "    parallel_results = parallel_pool(tasks)"
   ]
  },
  {
   "attachments": {},
   "cell_type": "markdown",
   "id": "f99c5d54",
   "metadata": {},
   "source": [
    "The library prints the number of workers used and every now and then a progress report. A higher value of `verbose` will give increasingly more information at increasingly shorter intervals."
   ]
  },
  {
   "cell_type": "code",
   "execution_count": 5,
   "id": "0593954c",
   "metadata": {},
   "outputs": [
    {
     "name": "stderr",
     "output_type": "stream",
     "text": [
      "[Parallel(n_jobs=2)]: Using backend LokyBackend with 2 concurrent workers.\n",
      "[Parallel(n_jobs=2)]: Done   1 tasks      | elapsed:    0.0s\n",
      "[Parallel(n_jobs=2)]: Batch computation too fast (0.006049394607543945s.) Setting batch_size=2.\n",
      "[Parallel(n_jobs=2)]: Done   4 tasks      | elapsed:    0.0s\n",
      "[Parallel(n_jobs=2)]: Batch computation too fast (0.012043476104736328s.) Setting batch_size=4.\n",
      "[Parallel(n_jobs=2)]: Done  16 tasks      | elapsed:    0.0s\n",
      "[Parallel(n_jobs=2)]: Batch computation too fast (0.009026288986206055s.) Setting batch_size=8.\n",
      "[Parallel(n_jobs=2)]: Batch computation too fast (0.0074536800384521484s.) Setting batch_size=16.\n",
      "[Parallel(n_jobs=2)]: Done  44 tasks      | elapsed:    0.0s\n",
      "[Parallel(n_jobs=2)]: Batch computation too fast (0.0006036758422851562s.) Setting batch_size=32.\n",
      "[Parallel(n_jobs=2)]: Done 156 tasks      | elapsed:    0.0s\n",
      "[Parallel(n_jobs=2)]: Batch computation too fast (0.008010625839233398s.) Setting batch_size=64.\n",
      "[Parallel(n_jobs=2)]: Batch computation too fast (0.005532979965209961s.) Setting batch_size=128.\n",
      "[Parallel(n_jobs=2)]: Done 444 tasks      | elapsed:    0.0s\n",
      "[Parallel(n_jobs=2)]: Batch computation too fast (0.005945444107055664s.) Setting batch_size=256.\n",
      "[Parallel(n_jobs=2)]: Batch computation too fast (0.006125926971435547s.) Setting batch_size=512.\n",
      "[Parallel(n_jobs=2)]: Done 1852 tasks      | elapsed:    0.0s\n",
      "[Parallel(n_jobs=2)]: Batch computation too fast (0.004852771759033203s.) Setting batch_size=1024.\n",
      "[Parallel(n_jobs=2)]: Batch computation too fast (0.01131582260131836s.) Setting batch_size=2048.\n",
      "[Parallel(n_jobs=2)]: Done 8252 tasks      | elapsed:    0.0s\n",
      "[Parallel(n_jobs=2)]: Batch computation too fast (0.010008811950683594s.) Setting batch_size=4096.\n",
      "[Parallel(n_jobs=2)]: Batch computation too fast (0.021062374114990234s.) Setting batch_size=8192.\n",
      "[Parallel(n_jobs=2)]: Batch computation too fast (0.04223227500915527s.) Setting batch_size=16384.\n",
      "[Parallel(n_jobs=2)]: Done 57404 tasks      | elapsed:    0.1s\n",
      "[Parallel(n_jobs=2)]: Batch computation too fast (0.07792878150939941s.) Setting batch_size=32768.\n",
      "[Parallel(n_jobs=2)]: Done 99012 tasks      | elapsed:    0.2s\n",
      "[Parallel(n_jobs=2)]: Done 100000 out of 100000 | elapsed:    0.2s finished\n"
     ]
    }
   ],
   "source": [
    "with Parallel(n_jobs=2, verbose=10) as parallel_pool:\n",
    "    parallel_results = parallel_pool(tasks)"
   ]
  },
  {
   "attachments": {},
   "cell_type": "markdown",
   "id": "8e5f75d7",
   "metadata": {},
   "source": [
    "Notice that the `joblib` library tells that it is adjusting the batch size automatically. The batch size is the number of tasks it dynamically allocates to the workers. By default, it starts with a batch size of one. This means that one task (in our case on square-root calculation) is assigned to a worker, and when it finishes, it will be assigned a next task. Assigning new tasks to workers incurs **overhead**. In this case, calculating a square root is very fast, which is detected by the library and it increases the batch size by a factor of two. This means that a batch of two tasks are given to a worker at the same time.\n",
    "\n",
    "Notice that a fixed batch size can be used by specifying the attribute `batch_size` in the `Parallel` class."
   ]
  },
  {
   "cell_type": "code",
   "execution_count": 6,
   "id": "f9f71ce7",
   "metadata": {},
   "outputs": [
    {
     "name": "stderr",
     "output_type": "stream",
     "text": [
      "[Parallel(n_jobs=2)]: Using backend LokyBackend with 2 concurrent workers.\n",
      "[Parallel(n_jobs=2)]: Done 1004 tasks      | elapsed:    0.0s\n",
      "[Parallel(n_jobs=2)]: Done 4004 tasks      | elapsed:    0.0s\n",
      "[Parallel(n_jobs=2)]: Done 9004 tasks      | elapsed:    0.0s\n",
      "[Parallel(n_jobs=2)]: Done 14004 tasks      | elapsed:    0.0s\n",
      "[Parallel(n_jobs=2)]: Done 21004 tasks      | elapsed:    0.0s\n",
      "[Parallel(n_jobs=2)]: Done 28004 tasks      | elapsed:    0.0s\n",
      "[Parallel(n_jobs=2)]: Done 37004 tasks      | elapsed:    0.0s\n",
      "[Parallel(n_jobs=2)]: Done 46004 tasks      | elapsed:    0.0s\n",
      "[Parallel(n_jobs=2)]: Done 57004 tasks      | elapsed:    0.1s\n",
      "[Parallel(n_jobs=2)]: Done 68004 tasks      | elapsed:    0.1s\n",
      "[Parallel(n_jobs=2)]: Done 81004 tasks      | elapsed:    0.1s\n",
      "[Parallel(n_jobs=2)]: Done 94004 tasks      | elapsed:    0.2s\n",
      "[Parallel(n_jobs=2)]: Done 99093 tasks      | elapsed:    0.2s\n",
      "[Parallel(n_jobs=2)]: Done 100000 out of 100000 | elapsed:    0.2s finished\n"
     ]
    }
   ],
   "source": [
    "with Parallel(n_jobs=2, verbose=10, batch_size=1000) as parallel_pool:\n",
    "    parallel_results = parallel_pool(tasks)"
   ]
  },
  {
   "attachments": {},
   "cell_type": "markdown",
   "id": "d0c5687f",
   "metadata": {},
   "source": [
    "Let us increase increase the verbosity even more."
   ]
  },
  {
   "cell_type": "code",
   "execution_count": 7,
   "id": "710f0e28",
   "metadata": {},
   "outputs": [
    {
     "name": "stdout",
     "output_type": "stream",
     "text": [
      "[Parallel(n_jobs=2)]: Using backend LokyBackend with 2 concurrent workers.\n",
      "[Parallel(n_jobs=2)]: Done   1 tasks      | elapsed:    0.0s\n",
      "[Parallel(n_jobs=2)]: Batch computation too fast (0.005358219146728516s.) Setting batch_size=2.\n",
      "[Parallel(n_jobs=2)]: Done   2 tasks      | elapsed:    0.0s\n",
      "[Parallel(n_jobs=2)]: Done   3 tasks      | elapsed:    0.0s\n",
      "[Parallel(n_jobs=2)]: Done   4 tasks      | elapsed:    0.0s\n",
      "[Parallel(n_jobs=2)]: Done   6 tasks      | elapsed:    0.0s\n",
      "[Parallel(n_jobs=2)]: Batch computation too fast (0.009000301361083984s.) Setting batch_size=4.\n",
      "[Parallel(n_jobs=2)]: Done   8 tasks      | elapsed:    0.0s\n",
      "[Parallel(n_jobs=2)]: Done  10 tasks      | elapsed:    0.0s\n",
      "[Parallel(n_jobs=2)]: Done  12 tasks      | elapsed:    0.0s\n",
      "[Parallel(n_jobs=2)]: Done  16 tasks      | elapsed:    0.0s\n",
      "[Parallel(n_jobs=2)]: Batch computation too fast (0.007383823394775391s.) Setting batch_size=8.\n",
      "[Parallel(n_jobs=2)]: Done  20 tasks      | elapsed:    0.0s\n",
      "[Parallel(n_jobs=2)]: Done  24 tasks      | elapsed:    0.0s\n",
      "[Parallel(n_jobs=2)]: Done  28 tasks      | elapsed:    0.0s\n",
      "[Parallel(n_jobs=2)]: Done  36 tasks      | elapsed:    0.0s\n",
      "[Parallel(n_jobs=2)]: Batch computation too fast (0.0037851333618164062s.) Setting batch_size=16.\n",
      "[Parallel(n_jobs=2)]: Done  44 tasks      | elapsed:    0.0s\n",
      "[Parallel(n_jobs=2)]: Done  52 tasks      | elapsed:    0.0s\n",
      "[Parallel(n_jobs=2)]: Done  60 tasks      | elapsed:    0.0s\n",
      "[Parallel(n_jobs=2)]: Done  76 tasks      | elapsed:    0.0s\n",
      "[Parallel(n_jobs=2)]: Batch computation too fast (0.0069768428802490234s.) Setting batch_size=32.\n",
      "[Parallel(n_jobs=2)]: Done  92 tasks      | elapsed:    0.0s\n",
      "[Parallel(n_jobs=2)]: Done 108 tasks      | elapsed:    0.0s\n",
      "[Parallel(n_jobs=2)]: Done 124 tasks      | elapsed:    0.0s\n",
      "[Parallel(n_jobs=2)]: Done 156 tasks      | elapsed:    0.0s\n",
      "[Parallel(n_jobs=2)]: Batch computation too fast (0.004798173904418945s.) Setting batch_size=64.\n",
      "[Parallel(n_jobs=2)]: Done 188 tasks      | elapsed:    0.0s\n",
      "[Parallel(n_jobs=2)]: Done 220 tasks      | elapsed:    0.0s\n",
      "[Parallel(n_jobs=2)]: Done 252 tasks      | elapsed:    0.0s\n",
      "[Parallel(n_jobs=2)]: Done 316 tasks      | elapsed:    0.0s\n",
      "[Parallel(n_jobs=2)]: Batch computation too fast (0.0058193206787109375s.) Setting batch_size=128.\n",
      "[Parallel(n_jobs=2)]: Done 380 tasks      | elapsed:    0.0s\n",
      "[Parallel(n_jobs=2)]: Done 444 tasks      | elapsed:    0.0s\n",
      "[Parallel(n_jobs=2)]: Done 508 tasks      | elapsed:    0.0s\n",
      "[Parallel(n_jobs=2)]: Done 636 tasks      | elapsed:    0.0s\n",
      "[Parallel(n_jobs=2)]: Done 764 tasks      | elapsed:    0.0s\n",
      "[Parallel(n_jobs=2)]: Batch computation too fast (0.004515647888183594s.) Setting batch_size=256.\n",
      "[Parallel(n_jobs=2)]: Done 892 tasks      | elapsed:    0.0s\n",
      "[Parallel(n_jobs=2)]: Done 1020 tasks      | elapsed:    0.0s\n",
      "[Parallel(n_jobs=2)]: Done 1148 tasks      | elapsed:    0.0s\n",
      "[Parallel(n_jobs=2)]: Done 1276 tasks      | elapsed:    0.0s\n",
      "[Parallel(n_jobs=2)]: Done 1532 tasks      | elapsed:    0.0s\n",
      "[Parallel(n_jobs=2)]: Batch computation too fast (0.008480072021484375s.) Setting batch_size=512.\n",
      "[Parallel(n_jobs=2)]: Done 1788 tasks      | elapsed:    0.0s\n",
      "[Parallel(n_jobs=2)]: Done 2044 tasks      | elapsed:    0.0s\n",
      "[Parallel(n_jobs=2)]: Done 2300 tasks      | elapsed:    0.0s\n",
      "[Parallel(n_jobs=2)]: Done 2812 tasks      | elapsed:    0.0s\n",
      "[Parallel(n_jobs=2)]: Batch computation too fast (0.008587837219238281s.) Setting batch_size=1024.\n",
      "[Parallel(n_jobs=2)]: Done 3324 tasks      | elapsed:    0.0s\n",
      "[Parallel(n_jobs=2)]: Done 3836 tasks      | elapsed:    0.0s\n",
      "[Parallel(n_jobs=2)]: Done 4348 tasks      | elapsed:    0.0s\n",
      "[Parallel(n_jobs=2)]: Done 5372 tasks      | elapsed:    0.0s\n",
      "[Parallel(n_jobs=2)]: Batch computation too fast (0.005734682083129883s.) Setting batch_size=2048.\n",
      "[Parallel(n_jobs=2)]: Done 6396 tasks      | elapsed:    0.0s\n",
      "[Parallel(n_jobs=2)]: Done 7420 tasks      | elapsed:    0.0s\n",
      "[Parallel(n_jobs=2)]: Done 8444 tasks      | elapsed:    0.0s\n",
      "[Parallel(n_jobs=2)]: Done 10492 tasks      | elapsed:    0.0s\n",
      "[Parallel(n_jobs=2)]: Batch computation too fast (0.014430999755859375s.) Setting batch_size=4096.\n",
      "[Parallel(n_jobs=2)]: Done 12540 tasks      | elapsed:    0.0s\n",
      "[Parallel(n_jobs=2)]: Done 14588 tasks      | elapsed:    0.0s\n",
      "[Parallel(n_jobs=2)]: Done 16636 tasks      | elapsed:    0.0s\n",
      "[Parallel(n_jobs=2)]: Done 20732 tasks      | elapsed:    0.0s\n",
      "[Parallel(n_jobs=2)]: Batch computation too fast (0.025520801544189453s.) Setting batch_size=8192.\n",
      "[Parallel(n_jobs=2)]: Done 24828 tasks      | elapsed:    0.0s\n",
      "[Parallel(n_jobs=2)]: Done 28924 tasks      | elapsed:    0.0s\n",
      "[Parallel(n_jobs=2)]: Done 33020 tasks      | elapsed:    0.0s\n",
      "[Parallel(n_jobs=2)]: Done 41212 tasks      | elapsed:    0.1s\n",
      "[Parallel(n_jobs=2)]: Batch computation too fast (0.040287017822265625s.) Setting batch_size=16384.\n",
      "[Parallel(n_jobs=2)]: Done 49404 tasks      | elapsed:    0.1s\n",
      "[Parallel(n_jobs=2)]: Done 57596 tasks      | elapsed:    0.1s\n",
      "[Parallel(n_jobs=2)]: Done 65788 tasks      | elapsed:    0.1s\n",
      "[Parallel(n_jobs=2)]: Done 82172 tasks      | elapsed:    0.1s\n",
      "[Parallel(n_jobs=2)]: Batch computation too fast (0.09348845481872559s.) Setting batch_size=32768.\n",
      "[Parallel(n_jobs=2)]: Done 82244 tasks      | elapsed:    0.2s\n",
      "[Parallel(n_jobs=2)]: Done 82316 tasks      | elapsed:    0.2s\n",
      "[Parallel(n_jobs=2)]: Done 82388 tasks      | elapsed:    0.2s\n",
      "[Parallel(n_jobs=2)]: Done 82460 tasks      | elapsed:    0.2s\n",
      "[Parallel(n_jobs=2)]: Done 98844 tasks      | elapsed:    0.2s\n",
      "[Parallel(n_jobs=2)]: Done 98916 tasks      | elapsed:    0.2s\n",
      "[Parallel(n_jobs=2)]: Done 98988 tasks      | elapsed:    0.2s\n",
      "[Parallel(n_jobs=2)]: Done 99060 tasks      | elapsed:    0.2s\n",
      "[Parallel(n_jobs=2)]: Done 99132 tasks      | elapsed:    0.2s\n",
      "[Parallel(n_jobs=2)]: Done 99204 tasks      | elapsed:    0.2s\n",
      "[Parallel(n_jobs=2)]: Done 99276 tasks      | elapsed:    0.2s\n",
      "[Parallel(n_jobs=2)]: Done 99348 tasks      | elapsed:    0.2s\n",
      "[Parallel(n_jobs=2)]: Done 99420 tasks      | elapsed:    0.2s\n",
      "[Parallel(n_jobs=2)]: Done 99492 tasks      | elapsed:    0.2s\n",
      "[Parallel(n_jobs=2)]: Done 99564 tasks      | elapsed:    0.2s\n",
      "[Parallel(n_jobs=2)]: Done 99636 tasks      | elapsed:    0.2s\n",
      "[Parallel(n_jobs=2)]: Done 99708 tasks      | elapsed:    0.2s\n",
      "[Parallel(n_jobs=2)]: Done 99780 tasks      | elapsed:    0.2s\n",
      "[Parallel(n_jobs=2)]: Done 99852 tasks      | elapsed:    0.2s\n",
      "[Parallel(n_jobs=2)]: Done 100000 out of 100000 | elapsed:    0.2s finished\n"
     ]
    }
   ],
   "source": [
    "with Parallel(n_jobs=2, verbose=50) as parallel_pool:\n",
    "    parallel_results = parallel_pool(tasks)"
   ]
  },
  {
   "attachments": {},
   "cell_type": "markdown",
   "id": "9a8f1312",
   "metadata": {},
   "source": [
    "Notice that the output is now with a white background instead of a red background. For a verbosity higher than fifty, the output is printed to `stdout`. This might be useful for advanced use cases where one needs to have control over the output stream.\n",
    "\n",
    "Also, you can see the effect of the batch size increase in the output: the number of tasks completed indeed increases with the batch size."
   ]
  },
  {
   "cell_type": "code",
   "execution_count": 10,
   "id": "d151654f",
   "metadata": {},
   "outputs": [],
   "source": [
    "# Actividad:\n",
    "\n",
    "def my_task(n):\n",
    "    my_sum = 0\n",
    "    for m in range(n):\n",
    "        my_sum += m\n",
    "    return my_sum\n",
    "\n",
    "tasks = [delayed(my_task)(i) for i in range(100)]"
   ]
  },
  {
   "cell_type": "code",
   "execution_count": 11,
   "id": "2225e21e",
   "metadata": {},
   "outputs": [
    {
     "name": "stderr",
     "output_type": "stream",
     "text": [
      "[Parallel(n_jobs=2)]: Using backend LokyBackend with 2 concurrent workers.\n",
      "[Parallel(n_jobs=2)]: Done   1 tasks      | elapsed:    0.0s\n",
      "[Parallel(n_jobs=2)]: Batch computation too fast (0.0024390220642089844s.) Setting batch_size=2.\n",
      "[Parallel(n_jobs=2)]: Done   4 tasks      | elapsed:    0.0s\n",
      "[Parallel(n_jobs=2)]: Batch computation too fast (0.002338409423828125s.) Setting batch_size=4.\n",
      "[Parallel(n_jobs=2)]: Done  16 tasks      | elapsed:    0.0s\n",
      "[Parallel(n_jobs=2)]: Batch computation too fast (0.002237558364868164s.) Setting batch_size=8.\n",
      "[Parallel(n_jobs=2)]: Batch computation too fast (0.0010724067687988281s.) Setting batch_size=16.\n",
      "[Parallel(n_jobs=2)]: Done  44 tasks      | elapsed:    0.0s\n",
      "[Parallel(n_jobs=2)]: Batch computation too fast (0.002533435821533203s.) Setting batch_size=32.\n",
      "[Parallel(n_jobs=2)]: Done  95 tasks      | elapsed:    0.0s\n",
      "[Parallel(n_jobs=2)]: Done 100 out of 100 | elapsed:    0.0s finished\n"
     ]
    }
   ],
   "source": [
    "with Parallel(n_jobs=2, verbose=10) as parallel_pool:\n",
    "    parallel_results = parallel_pool(tasks)"
   ]
  },
  {
   "cell_type": "code",
   "execution_count": null,
   "id": "9940c77b",
   "metadata": {},
   "outputs": [],
   "source": []
  }
 ],
 "metadata": {
  "kernelspec": {
   "display_name": "Python 3.10.4 64-bit",
   "language": "python",
   "name": "python3"
  },
  "language_info": {
   "codemirror_mode": {
    "name": "ipython",
    "version": 3
   },
   "file_extension": ".py",
   "mimetype": "text/x-python",
   "name": "python",
   "nbconvert_exporter": "python",
   "pygments_lexer": "ipython3",
   "version": "3.11.2"
  },
  "vscode": {
   "interpreter": {
    "hash": "7600a12950a547366bb7a6732117e300ffd26224351912980486e1126c5d0f9a"
   }
  }
 },
 "nbformat": 4,
 "nbformat_minor": 5
}
