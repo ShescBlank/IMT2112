{
 "cells": [
  {
   "attachments": {},
   "cell_type": "markdown",
   "id": "1c30d8e1",
   "metadata": {},
   "source": [
    "# Ayudantía 1 - Notebook 3\n",
    "### Profesor: Elwin van 't Wout\n",
    "### Ayudante: Alberto Almuna Morales (alberto.almuna@uc.cl)"
   ]
  },
  {
   "attachments": {},
   "cell_type": "markdown",
   "id": "801f0f24",
   "metadata": {},
   "source": [
    "The library `joblib` provides functionality for parallel computing. In this notebook, let us look into the information that can be printed."
   ]
  },
  {
   "cell_type": "code",
   "execution_count": null,
   "id": "61aa2cbe",
   "metadata": {},
   "outputs": [],
   "source": [
    "import numpy as np\n",
    "from joblib import Parallel, delayed"
   ]
  },
  {
   "attachments": {},
   "cell_type": "markdown",
   "id": "b8ee2978",
   "metadata": {},
   "source": [
    "Let us create the tasks to be performed in parallel by the workers: calculating the square root of several numbers."
   ]
  },
  {
   "cell_type": "code",
   "execution_count": null,
   "id": "adfb598c",
   "metadata": {},
   "outputs": [],
   "source": [
    "tasks = [delayed(np.sqrt)(i) for i in range(100000)]"
   ]
  },
  {
   "attachments": {},
   "cell_type": "markdown",
   "id": "6e813b4a",
   "metadata": {},
   "source": [
    "Upon creating a `Parallel` object with `joblib`, the attribute `verbose` can be set to a number. The higher the number, the more output will be provided by the library."
   ]
  },
  {
   "cell_type": "code",
   "execution_count": null,
   "id": "dd6db8ac",
   "metadata": {},
   "outputs": [],
   "source": [
    "with Parallel(n_jobs=2, verbose=0) as parallel_pool:\n",
    "    parallel_results = parallel_pool(tasks)"
   ]
  },
  {
   "attachments": {},
   "cell_type": "markdown",
   "id": "1debab32",
   "metadata": {},
   "source": [
    "For a value of zero, no output will be printed. Positive values provide output."
   ]
  },
  {
   "cell_type": "code",
   "execution_count": null,
   "id": "9dcfb514",
   "metadata": {},
   "outputs": [],
   "source": [
    "with Parallel(n_jobs=2, verbose=1) as parallel_pool:\n",
    "    parallel_results = parallel_pool(tasks)"
   ]
  },
  {
   "attachments": {},
   "cell_type": "markdown",
   "id": "f99c5d54",
   "metadata": {},
   "source": [
    "The library prints the number of workers used and every now and then a progress report. A higher value of `verbose` will give increasingly more information at increasingly shorter intervals."
   ]
  },
  {
   "cell_type": "code",
   "execution_count": null,
   "id": "0593954c",
   "metadata": {},
   "outputs": [],
   "source": [
    "with Parallel(n_jobs=2, verbose=10) as parallel_pool:\n",
    "    parallel_results = parallel_pool(tasks)"
   ]
  },
  {
   "attachments": {},
   "cell_type": "markdown",
   "id": "8e5f75d7",
   "metadata": {},
   "source": [
    "Notice that the `joblib` library tells that it is adjusting the batch size automatically. The batch size is the number of tasks it dynamically allocates to the workers. By default, it starts with a batch size of one. This means that one task (in our case on square-root calculation) is assigned to a worker, and when it finishes, it will be assigned a next task. Assigning new tasks to workers incurs **overhead**. In this case, calculating a square root is very fast, which is detected by the library and it increases the batch size by a factor of two. This means that a batch of two tasks are given to a worker at the same time.\n",
    "\n",
    "Notice that a fixed batch size can be used by specifying the attribute `batch_size` in the `Parallel` class."
   ]
  },
  {
   "cell_type": "code",
   "execution_count": null,
   "id": "f9f71ce7",
   "metadata": {},
   "outputs": [],
   "source": [
    "with Parallel(n_jobs=2, verbose=10, batch_size=1000) as parallel_pool:\n",
    "    parallel_results = parallel_pool(tasks)"
   ]
  },
  {
   "attachments": {},
   "cell_type": "markdown",
   "id": "d0c5687f",
   "metadata": {},
   "source": [
    "Let us increase increase the verbosity even more."
   ]
  },
  {
   "cell_type": "code",
   "execution_count": null,
   "id": "710f0e28",
   "metadata": {},
   "outputs": [],
   "source": [
    "with Parallel(n_jobs=2, verbose=50) as parallel_pool:\n",
    "    parallel_results = parallel_pool(tasks)"
   ]
  },
  {
   "attachments": {},
   "cell_type": "markdown",
   "id": "9a8f1312",
   "metadata": {},
   "source": [
    "Notice that the output is now with a white background instead of a red background. For a verbosity higher than fifty, the output is printed to `stdout`. This might be useful for advanced use cases where one needs to have control over the output stream.\n",
    "\n",
    "Also, you can see the effect of the batch size increase in the output: the number of tasks completed indeed increases with the batch size."
   ]
  },
  {
   "cell_type": "code",
   "execution_count": null,
   "id": "d151654f",
   "metadata": {},
   "outputs": [],
   "source": [
    "# Actividad:\n",
    "\n",
    "def my_task(n):\n",
    "    my_sum = 0\n",
    "    for m in range(n):\n",
    "        my_sum += m\n",
    "    return my_sum\n",
    "\n",
    "tasks = ..."
   ]
  },
  {
   "cell_type": "code",
   "execution_count": null,
   "id": "2225e21e",
   "metadata": {},
   "outputs": [],
   "source": [
    "with Parallel(n_jobs=2, verbose=10) as parallel_pool:\n",
    "    parallel_results = parallel_pool(tasks)"
   ]
  },
  {
   "cell_type": "code",
   "execution_count": null,
   "id": "9940c77b",
   "metadata": {},
   "outputs": [],
   "source": []
  }
 ],
 "metadata": {
  "kernelspec": {
   "display_name": "Python 3.10.4 64-bit",
   "language": "python",
   "name": "python3"
  },
  "language_info": {
   "codemirror_mode": {
    "name": "ipython",
    "version": 3
   },
   "file_extension": ".py",
   "mimetype": "text/x-python",
   "name": "python",
   "nbconvert_exporter": "python",
   "pygments_lexer": "ipython3",
   "version": "3.11.2"
  },
  "vscode": {
   "interpreter": {
    "hash": "7600a12950a547366bb7a6732117e300ffd26224351912980486e1126c5d0f9a"
   }
  }
 },
 "nbformat": 4,
 "nbformat_minor": 5
}
