{
 "cells": [
  {
   "attachments": {},
   "cell_type": "markdown",
   "id": "a7056a3f",
   "metadata": {},
   "source": [
    "# Ayudantía 1 - Notebook 2\n",
    "### Profesor: Elwin van 't Wout\n",
    "### Ayudante: Alberto Almuna Morales (alberto.almuna@uc.cl)"
   ]
  },
  {
   "attachments": {},
   "cell_type": "markdown",
   "id": "a032fff2",
   "metadata": {},
   "source": [
    "The library ```joblib``` provides functionality for parallel computing. In this notebook, let us use a parallel pool of workers for different tasks."
   ]
  },
  {
   "cell_type": "code",
   "execution_count": 1,
   "id": "34a5963a",
   "metadata": {},
   "outputs": [],
   "source": [
    "import numpy as np"
   ]
  },
  {
   "attachments": {},
   "cell_type": "markdown",
   "id": "834bf49b",
   "metadata": {},
   "source": [
    "The `Parallel` class of `joblib` creates a pool of workers to which tasks can be assigned. This pool of workers can be reused for different sets of tasks."
   ]
  },
  {
   "cell_type": "code",
   "execution_count": 2,
   "id": "5225b2c9",
   "metadata": {},
   "outputs": [],
   "source": [
    "from joblib import Parallel, delayed"
   ]
  },
  {
   "attachments": {},
   "cell_type": "markdown",
   "id": "46e35cb6",
   "metadata": {},
   "source": [
    "Let us create a pool with the maximum number of workers available on our machine. Specifying the number of jobs as minus one means the maximum number of workers that can automatically be found on the machine."
   ]
  },
  {
   "cell_type": "code",
   "execution_count": 3,
   "id": "bbd0465c",
   "metadata": {},
   "outputs": [
    {
     "name": "stdout",
     "output_type": "stream",
     "text": [
      "Number of cores found by joblib: 8\n"
     ]
    }
   ],
   "source": [
    "from joblib import cpu_count\n",
    "print(\"Number of cores found by joblib:\", cpu_count())"
   ]
  },
  {
   "cell_type": "code",
   "execution_count": 4,
   "id": "3db86182",
   "metadata": {},
   "outputs": [],
   "source": [
    "parallel_pool = Parallel(n_jobs=-1)"
   ]
  },
  {
   "attachments": {},
   "cell_type": "markdown",
   "id": "03c1b471",
   "metadata": {},
   "source": [
    "Let us create two different functions we like to perform: taking the square and the square root. For the square root, we can use the `Numpy` function, but for the square we create our own function."
   ]
  },
  {
   "cell_type": "code",
   "execution_count": 5,
   "id": "df3e02e7",
   "metadata": {},
   "outputs": [],
   "source": [
    "def my_square(n):\n",
    "    return n**2\n",
    "parallel_square = delayed(my_square)\n",
    "parallel_root = delayed(np.sqrt)"
   ]
  },
  {
   "attachments": {},
   "cell_type": "markdown",
   "id": "6fd79d41",
   "metadata": {},
   "source": [
    "Creating the tasks requires specifying the input variables. For the square, let us use a uniform sample for values between zero and one. For the square root, we'd like to use the previous output and check if the result is the input again. Hence, we first need to perform the square operations."
   ]
  },
  {
   "cell_type": "code",
   "execution_count": 8,
   "id": "d011898d",
   "metadata": {},
   "outputs": [
    {
     "name": "stdout",
     "output_type": "stream",
     "text": [
      "Input values are: [0.         0.11111111 0.22222222 0.33333333 0.44444444 0.55555556\n",
      " 0.66666667 0.77777778 0.88888889 1.        ]\n"
     ]
    }
   ],
   "source": [
    "input_values = np.linspace(0,1,10)\n",
    "print(\"Input values are:\", input_values)"
   ]
  },
  {
   "cell_type": "code",
   "execution_count": 9,
   "id": "a756c03c",
   "metadata": {},
   "outputs": [],
   "source": [
    "parallel_tasks_square = [parallel_square(i) for i in input_values]"
   ]
  },
  {
   "cell_type": "code",
   "execution_count": 10,
   "id": "25f7702c",
   "metadata": {},
   "outputs": [],
   "source": [
    "parallel_results_square = parallel_pool(parallel_tasks_square)"
   ]
  },
  {
   "cell_type": "code",
   "execution_count": 11,
   "id": "e7a16225",
   "metadata": {},
   "outputs": [
    {
     "name": "stdout",
     "output_type": "stream",
     "text": [
      "The squares of input values are: [0.0, 0.012345679012345678, 0.04938271604938271, 0.1111111111111111, 0.19753086419753085, 0.308641975308642, 0.4444444444444444, 0.6049382716049381, 0.7901234567901234, 1.0]\n"
     ]
    }
   ],
   "source": [
    "print(\"The squares of input values are:\", parallel_results_square)"
   ]
  },
  {
   "cell_type": "code",
   "execution_count": 12,
   "id": "ed4f1782",
   "metadata": {},
   "outputs": [],
   "source": [
    "parallel_tasks_root = [parallel_root(i) for i in parallel_results_square]"
   ]
  },
  {
   "cell_type": "code",
   "execution_count": 13,
   "id": "61cdb6a0",
   "metadata": {},
   "outputs": [],
   "source": [
    "parallel_results_root = parallel_pool(parallel_tasks_root)"
   ]
  },
  {
   "cell_type": "code",
   "execution_count": 14,
   "id": "58506510",
   "metadata": {},
   "outputs": [
    {
     "name": "stdout",
     "output_type": "stream",
     "text": [
      "The square roots of the squares of the input values are: [0.0, 0.1111111111111111, 0.2222222222222222, 0.3333333333333333, 0.4444444444444444, 0.5555555555555556, 0.6666666666666666, 0.7777777777777777, 0.8888888888888888, 1.0]\n"
     ]
    }
   ],
   "source": [
    "print(\"The square roots of the squares of the input values are:\", parallel_results_root)"
   ]
  },
  {
   "attachments": {},
   "cell_type": "markdown",
   "id": "ddaf4ddf",
   "metadata": {},
   "source": [
    "Notice that the square root of the square of the input values are indeed the input variables, perhaps with a small rounding error. Also, the same pool of workers was used twice: the tasks needed to be defined again but the same worker pool can be used many times. Reusing the same worker pool tends to be quicker since it can be initialized once and applied to different tasks."
   ]
  },
  {
   "cell_type": "code",
   "execution_count": null,
   "id": "e41c04ac",
   "metadata": {},
   "outputs": [],
   "source": []
  }
 ],
 "metadata": {
  "kernelspec": {
   "display_name": "Python 3.10.4 64-bit",
   "language": "python",
   "name": "python3"
  },
  "language_info": {
   "codemirror_mode": {
    "name": "ipython",
    "version": 3
   },
   "file_extension": ".py",
   "mimetype": "text/x-python",
   "name": "python",
   "nbconvert_exporter": "python",
   "pygments_lexer": "ipython3",
   "version": "3.11.2"
  },
  "vscode": {
   "interpreter": {
    "hash": "7600a12950a547366bb7a6732117e300ffd26224351912980486e1126c5d0f9a"
   }
  }
 },
 "nbformat": 4,
 "nbformat_minor": 5
}
