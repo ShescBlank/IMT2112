{
  "cells": [
    {
      "attachments": {},
      "cell_type": "markdown",
      "metadata": {
        "id": "Fv1dVo4_y2rm"
      },
      "source": [
        "# Comparaciones de rendimiento\n",
        "\n",
        "Calculemos raíces cuadradas de varios números de distintas maneras:"
      ]
    },
    {
      "attachments": {},
      "cell_type": "markdown",
      "metadata": {
        "id": "Rugw0fMby__Z"
      },
      "source": [
        "### Python normal:"
      ]
    },
    {
      "cell_type": "code",
      "execution_count": 1,
      "metadata": {
        "id": "RqDWRK7xyw0u"
      },
      "outputs": [],
      "source": [
        "from math import sqrt\n",
        "import time as tm"
      ]
    },
    {
      "cell_type": "code",
      "execution_count": 2,
      "metadata": {},
      "outputs": [],
      "source": [
        "n = 10000000"
      ]
    },
    {
      "cell_type": "code",
      "execution_count": 3,
      "metadata": {
        "colab": {
          "base_uri": "https://localhost:8080/"
        },
        "id": "sh6FUabezDiR",
        "outputId": "f672cf37-2834-49d1-d586-a625f58b7ebe"
      },
      "outputs": [
        {
          "name": "stdout",
          "output_type": "stream",
          "text": [
            "Comenzando a calcular...\n",
            "Tiempo total: 0.9421744346618652s\n"
          ]
        }
      ],
      "source": [
        "print(\"Comenzando a calcular...\")\n",
        "start = tm.time()\n",
        "normal_results = [sqrt(i) for i in range(n)]\n",
        "end = tm.time()\n",
        "print(f\"Tiempo total: {end - start}s\")"
      ]
    },
    {
      "attachments": {},
      "cell_type": "markdown",
      "metadata": {
        "id": "xPOV-TYHzH_o"
      },
      "source": [
        "## Numpy:"
      ]
    },
    {
      "cell_type": "code",
      "execution_count": 4,
      "metadata": {
        "id": "x1JnDuDozG6d"
      },
      "outputs": [],
      "source": [
        "import numpy as np\n",
        "import time as tm"
      ]
    },
    {
      "cell_type": "code",
      "execution_count": 5,
      "metadata": {
        "colab": {
          "base_uri": "https://localhost:8080/"
        },
        "id": "a2iwAUwLzOHB",
        "outputId": "763cac3a-3bcd-40a8-bb63-ffcaa6cae7a7"
      },
      "outputs": [
        {
          "name": "stdout",
          "output_type": "stream",
          "text": [
            "Comenzando a calcular...\n",
            "Tiempo total: 0.04117774963378906s\n"
          ]
        }
      ],
      "source": [
        "print(\"Comenzando a calcular...\")\n",
        "start = tm.time()\n",
        "data = np.arange(n)\n",
        "numpy_results = np.sqrt(data) # Ojo que le damos todo el array de datos directamente a la función\n",
        "# En general, al trabajar con Numpy, es muy buena idea hacer todo de manera vectorial/matricial.\n",
        "# Está muy optimizado para esto!\n",
        "end = tm.time()\n",
        "print(f\"Tiempo total: {end - start}s\")"
      ]
    },
    {
      "attachments": {},
      "cell_type": "markdown",
      "metadata": {
        "id": "KizYAhQ2zR9g"
      },
      "source": [
        "## Joblib"
      ]
    },
    {
      "cell_type": "code",
      "execution_count": 6,
      "metadata": {
        "id": "x4jm5YJpzQUD"
      },
      "outputs": [],
      "source": [
        "import numpy as np\n",
        "from math import sqrt\n",
        "from joblib import Parallel\n",
        "from joblib import delayed\n",
        "import time as tm"
      ]
    },
    {
      "attachments": {},
      "cell_type": "markdown",
      "metadata": {
        "id": "2dg3MYcI1GLw"
      },
      "source": [
        "Dos trabajadores:"
      ]
    },
    {
      "cell_type": "code",
      "execution_count": 7,
      "metadata": {
        "colab": {
          "base_uri": "https://localhost:8080/"
        },
        "id": "l_JLrCVa09X5",
        "outputId": "11f283eb-aabd-4745-925f-d1083edcbeeb"
      },
      "outputs": [
        {
          "name": "stdout",
          "output_type": "stream",
          "text": [
            "Comenzando a calcular...\n",
            "Tiempo total: 18.816686868667603s\n"
          ]
        }
      ],
      "source": [
        "print(\"Comenzando a calcular...\")\n",
        "start = tm.time()\n",
        "parallel_pool = Parallel(n_jobs=2)\n",
        "parallel_sqrt = delayed(sqrt)\n",
        "parallel_tasks = [parallel_sqrt(i) for i in range(n)]\n",
        "parallel_results = parallel_pool(parallel_tasks)\n",
        "end = tm.time()\n",
        "print(f\"Tiempo total: {end - start}s\")"
      ]
    },
    {
      "attachments": {},
      "cell_type": "markdown",
      "metadata": {
        "id": "xkxI7K8P1IZF"
      },
      "source": [
        "Cuatro trabajadores:"
      ]
    },
    {
      "cell_type": "code",
      "execution_count": 8,
      "metadata": {
        "colab": {
          "base_uri": "https://localhost:8080/"
        },
        "id": "dKiyfzwCzaFZ",
        "outputId": "0fc8e872-2786-4ffc-b145-9a924dc276ea"
      },
      "outputs": [
        {
          "name": "stdout",
          "output_type": "stream",
          "text": [
            "Comenzando a calcular...\n",
            "Tiempo total: 16.809730291366577s\n"
          ]
        }
      ],
      "source": [
        "print(\"Comenzando a calcular...\")\n",
        "start = tm.time()\n",
        "parallel_pool = Parallel(n_jobs=4)\n",
        "parallel_sqrt = delayed(sqrt)\n",
        "parallel_tasks = [parallel_sqrt(i) for i in range(n)]\n",
        "parallel_results = parallel_pool(parallel_tasks)\n",
        "end = tm.time()\n",
        "print(f\"Tiempo total: {end - start}s\")"
      ]
    },
    {
      "attachments": {},
      "cell_type": "markdown",
      "metadata": {
        "id": "4zfFot501KeG"
      },
      "source": [
        "¿Qué ocurre si usamos la función raíz de numpy?"
      ]
    },
    {
      "cell_type": "code",
      "execution_count": 9,
      "metadata": {
        "colab": {
          "base_uri": "https://localhost:8080/"
        },
        "id": "hIy5wAJKzXN2",
        "outputId": "bbd1530c-5bf4-4492-a561-e3330ff57aa6"
      },
      "outputs": [
        {
          "name": "stdout",
          "output_type": "stream",
          "text": [
            "Comenzando a calcular...\n",
            "Tiempo total: 34.296361446380615s\n"
          ]
        }
      ],
      "source": [
        "print(\"Comenzando a calcular...\")\n",
        "start = tm.time()\n",
        "parallel_pool = Parallel(n_jobs=2)\n",
        "parallel_sqrt = delayed(np.sqrt) # Notar la diferencia\n",
        "parallel_tasks = [parallel_sqrt(i) for i in range(n)]\n",
        "parallel_results = parallel_pool(parallel_tasks)\n",
        "end = tm.time()\n",
        "print(f\"Tiempo total: {end - start}s\")"
      ]
    },
    {
      "attachments": {},
      "cell_type": "markdown",
      "metadata": {
        "id": "CB7eJ_6b9Diw"
      },
      "source": [
        "Finalmente con batch_size fijo:"
      ]
    },
    {
      "cell_type": "code",
      "execution_count": 10,
      "metadata": {
        "colab": {
          "base_uri": "https://localhost:8080/"
        },
        "id": "fGEG0I-VzhYS",
        "outputId": "3bab9c95-cd4a-4fe7-d9be-5c54447c6b86"
      },
      "outputs": [
        {
          "name": "stdout",
          "output_type": "stream",
          "text": [
            "Comenzando a calcular...\n",
            "Tiempo total: 15.666585206985474s\n"
          ]
        }
      ],
      "source": [
        "print(\"Comenzando a calcular...\")\n",
        "start = tm.time()\n",
        "parallel_pool = Parallel(n_jobs=2, batch_size=100000)\n",
        "parallel_sqrt = delayed(sqrt)\n",
        "parallel_tasks = [parallel_sqrt(i) for i in range(n)]\n",
        "parallel_results = parallel_pool(parallel_tasks)\n",
        "end = tm.time()\n",
        "print(f\"Tiempo total: {end - start}s\")"
      ]
    },
    {
      "cell_type": "code",
      "execution_count": 11,
      "metadata": {
        "colab": {
          "base_uri": "https://localhost:8080/"
        },
        "id": "PdiInRDx9IFA",
        "outputId": "1a5efdd8-eaf9-43ba-b3f6-7aef7ea4fd56"
      },
      "outputs": [
        {
          "name": "stdout",
          "output_type": "stream",
          "text": [
            "Comenzando a calcular...\n",
            "Tiempo total: 19.51024317741394s\n"
          ]
        }
      ],
      "source": [
        "print(\"Comenzando a calcular...\")\n",
        "start = tm.time()\n",
        "parallel_pool = Parallel(n_jobs=2, batch_size=500000)\n",
        "parallel_sqrt = delayed(sqrt)\n",
        "parallel_tasks = [parallel_sqrt(i) for i in range(n)]\n",
        "parallel_results = parallel_pool(parallel_tasks)\n",
        "end = tm.time()\n",
        "print(f\"Tiempo total: {end - start}s\")"
      ]
    },
    {
      "cell_type": "code",
      "execution_count": 12,
      "metadata": {
        "id": "i8dx3VA49wBZ"
      },
      "outputs": [
        {
          "name": "stdout",
          "output_type": "stream",
          "text": [
            "Comenzando a calcular...\n",
            "Tiempo total: 20.722821712493896s\n"
          ]
        }
      ],
      "source": [
        "print(\"Comenzando a calcular...\")\n",
        "start = tm.time()\n",
        "parallel_pool = Parallel(n_jobs=4, batch_size=int(n/4))\n",
        "parallel_sqrt = delayed(sqrt)\n",
        "parallel_tasks = [parallel_sqrt(i) for i in range(n)]\n",
        "parallel_results = parallel_pool(parallel_tasks)\n",
        "end = tm.time()\n",
        "print(f\"Tiempo total: {end - start}s\")"
      ]
    },
    {
      "cell_type": "markdown",
      "metadata": {},
      "source": [
        "## Comparación rendimiento de appendear valores a una lista vs un array"
      ]
    },
    {
      "cell_type": "code",
      "execution_count": 13,
      "metadata": {},
      "outputs": [
        {
          "name": "stdout",
          "output_type": "stream",
          "text": [
            "0.6783316135406494\n"
          ]
        }
      ],
      "source": [
        "# Numpy array vs listas\n",
        "\n",
        "lista = []\n",
        "t1 = tm.time()\n",
        "for i in range(n):\n",
        "    lista.append(i)\n",
        "t2 = tm.time()\n",
        "print(t2-t1)"
      ]
    },
    {
      "cell_type": "code",
      "execution_count": 15,
      "metadata": {},
      "outputs": [
        {
          "ename": "KeyboardInterrupt",
          "evalue": "",
          "output_type": "error",
          "traceback": [
            "\u001b[1;31m---------------------------------------------------------------------------\u001b[0m",
            "\u001b[1;31mKeyboardInterrupt\u001b[0m                         Traceback (most recent call last)",
            "Cell \u001b[1;32mIn[15], line 4\u001b[0m\n\u001b[0;32m      2\u001b[0m t1 \u001b[38;5;241m=\u001b[39m tm\u001b[38;5;241m.\u001b[39mtime()\n\u001b[0;32m      3\u001b[0m \u001b[38;5;28;01mfor\u001b[39;00m i \u001b[38;5;129;01min\u001b[39;00m \u001b[38;5;28mrange\u001b[39m(n):\n\u001b[1;32m----> 4\u001b[0m     array \u001b[38;5;241m=\u001b[39m \u001b[43mnp\u001b[49m\u001b[38;5;241;43m.\u001b[39;49m\u001b[43mappend\u001b[49m\u001b[43m(\u001b[49m\u001b[43marray\u001b[49m\u001b[43m,\u001b[49m\u001b[43m \u001b[49m\u001b[43mi\u001b[49m\u001b[43m)\u001b[49m\n\u001b[0;32m      5\u001b[0m t2 \u001b[38;5;241m=\u001b[39m tm\u001b[38;5;241m.\u001b[39mtime()\n\u001b[0;32m      6\u001b[0m \u001b[38;5;28mprint\u001b[39m(t2\u001b[38;5;241m-\u001b[39mt1)\n",
            "File \u001b[1;32m<__array_function__ internals>:200\u001b[0m, in \u001b[0;36mappend\u001b[1;34m(*args, **kwargs)\u001b[0m\n",
            "File \u001b[1;32mc:\\Users\\alber\\AppData\\Local\\Programs\\Python\\Python311\\Lib\\site-packages\\numpy\\lib\\function_base.py:5499\u001b[0m, in \u001b[0;36mappend\u001b[1;34m(arr, values, axis)\u001b[0m\n\u001b[0;32m   5497\u001b[0m     values \u001b[38;5;241m=\u001b[39m ravel(values)\n\u001b[0;32m   5498\u001b[0m     axis \u001b[38;5;241m=\u001b[39m arr\u001b[38;5;241m.\u001b[39mndim\u001b[38;5;241m-\u001b[39m\u001b[38;5;241m1\u001b[39m\n\u001b[1;32m-> 5499\u001b[0m \u001b[38;5;28;01mreturn\u001b[39;00m \u001b[43mconcatenate\u001b[49m\u001b[43m(\u001b[49m\u001b[43m(\u001b[49m\u001b[43marr\u001b[49m\u001b[43m,\u001b[49m\u001b[43m \u001b[49m\u001b[43mvalues\u001b[49m\u001b[43m)\u001b[49m\u001b[43m,\u001b[49m\u001b[43m \u001b[49m\u001b[43maxis\u001b[49m\u001b[38;5;241;43m=\u001b[39;49m\u001b[43maxis\u001b[49m\u001b[43m)\u001b[49m\n",
            "File \u001b[1;32m<__array_function__ internals>:200\u001b[0m, in \u001b[0;36mconcatenate\u001b[1;34m(*args, **kwargs)\u001b[0m\n",
            "\u001b[1;31mKeyboardInterrupt\u001b[0m: "
          ]
        }
      ],
      "source": [
        "array = np.array([])\n",
        "t1 = tm.time()\n",
        "for i in range(n):\n",
        "    array = np.append(array, i)\n",
        "t2 = tm.time()\n",
        "print(t2-t1)\n",
        "\n",
        "# Lo detuve antes de que terminara porque ya era mucho, pero llegó a más de 42 minutos sin terminar."
      ]
    },
    {
      "cell_type": "markdown",
      "metadata": {},
      "source": [
        "En resumen:\n",
        "- Si necesitan ir agregando valores -> listas\n",
        "- Para realizar operaciones matriciales y de vectores -> NUMPY\n",
        "  \n",
        "** Es común agregar valores a una lista y luego transformarla a un array para realizar operaciones con ella."
      ]
    },
    {
      "cell_type": "markdown",
      "metadata": {},
      "source": []
    }
  ],
  "metadata": {
    "colab": {
      "provenance": []
    },
    "kernelspec": {
      "display_name": "Python 3",
      "name": "python3"
    },
    "language_info": {
      "codemirror_mode": {
        "name": "ipython",
        "version": 3
      },
      "file_extension": ".py",
      "mimetype": "text/x-python",
      "name": "python",
      "nbconvert_exporter": "python",
      "pygments_lexer": "ipython3",
      "version": "3.11.2"
    }
  },
  "nbformat": 4,
  "nbformat_minor": 0
}
