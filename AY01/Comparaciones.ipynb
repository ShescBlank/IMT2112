{
  "cells": [
    {
      "attachments": {},
      "cell_type": "markdown",
      "metadata": {
        "id": "Fv1dVo4_y2rm"
      },
      "source": [
        "# Comparaciones de rendimiento\n",
        "\n",
        "Calculemos raíces cuadradas de varios números de distintas maneras:"
      ]
    },
    {
      "attachments": {},
      "cell_type": "markdown",
      "metadata": {
        "id": "Rugw0fMby__Z"
      },
      "source": [
        "### Python normal:"
      ]
    },
    {
      "cell_type": "code",
      "execution_count": null,
      "metadata": {
        "id": "RqDWRK7xyw0u"
      },
      "outputs": [],
      "source": [
        "from math import sqrt\n",
        "import time as tm"
      ]
    },
    {
      "cell_type": "code",
      "execution_count": null,
      "metadata": {},
      "outputs": [],
      "source": [
        "n = 10000000"
      ]
    },
    {
      "cell_type": "code",
      "execution_count": null,
      "metadata": {
        "colab": {
          "base_uri": "https://localhost:8080/"
        },
        "id": "sh6FUabezDiR",
        "outputId": "f672cf37-2834-49d1-d586-a625f58b7ebe"
      },
      "outputs": [],
      "source": [
        "print(\"Comenzando a calcular...\")\n",
        "start = tm.time()\n",
        "normal_results = [sqrt(i) for i in range(n)]\n",
        "end = tm.time()\n",
        "print(f\"Tiempo total: {end - start}s\")"
      ]
    },
    {
      "attachments": {},
      "cell_type": "markdown",
      "metadata": {
        "id": "xPOV-TYHzH_o"
      },
      "source": [
        "## Numpy:"
      ]
    },
    {
      "cell_type": "code",
      "execution_count": null,
      "metadata": {
        "id": "x1JnDuDozG6d"
      },
      "outputs": [],
      "source": [
        "import numpy as np\n",
        "import time as tm"
      ]
    },
    {
      "cell_type": "code",
      "execution_count": null,
      "metadata": {
        "colab": {
          "base_uri": "https://localhost:8080/"
        },
        "id": "a2iwAUwLzOHB",
        "outputId": "763cac3a-3bcd-40a8-bb63-ffcaa6cae7a7"
      },
      "outputs": [],
      "source": [
        "print(\"Comenzando a calcular...\")\n",
        "start = tm.time()\n",
        "data = np.arange(n)\n",
        "numpy_results = np.sqrt(data)\n",
        "end = tm.time()\n",
        "print(f\"Tiempo total: {end - start}s\")"
      ]
    },
    {
      "attachments": {},
      "cell_type": "markdown",
      "metadata": {
        "id": "KizYAhQ2zR9g"
      },
      "source": [
        "## Joblib"
      ]
    },
    {
      "cell_type": "code",
      "execution_count": null,
      "metadata": {
        "id": "x4jm5YJpzQUD"
      },
      "outputs": [],
      "source": [
        "import numpy as np\n",
        "from math import sqrt\n",
        "from joblib import Parallel\n",
        "from joblib import delayed\n",
        "import time as tm"
      ]
    },
    {
      "attachments": {},
      "cell_type": "markdown",
      "metadata": {
        "id": "2dg3MYcI1GLw"
      },
      "source": [
        "Dos trabajadores:"
      ]
    },
    {
      "cell_type": "code",
      "execution_count": null,
      "metadata": {
        "colab": {
          "base_uri": "https://localhost:8080/"
        },
        "id": "l_JLrCVa09X5",
        "outputId": "11f283eb-aabd-4745-925f-d1083edcbeeb"
      },
      "outputs": [],
      "source": [
        "print(\"Comenzando a calcular...\")\n",
        "start = tm.time()\n",
        "parallel_pool = Parallel(n_jobs=2)\n",
        "parallel_sqrt = delayed(sqrt)\n",
        "parallel_tasks = [parallel_sqrt(i) for i in range(n)]\n",
        "parallel_results = parallel_pool(parallel_tasks)\n",
        "end = tm.time()\n",
        "print(f\"Tiempo total: {end - start}s\")"
      ]
    },
    {
      "attachments": {},
      "cell_type": "markdown",
      "metadata": {
        "id": "xkxI7K8P1IZF"
      },
      "source": [
        "Cuatro trabajadores:"
      ]
    },
    {
      "cell_type": "code",
      "execution_count": null,
      "metadata": {
        "colab": {
          "base_uri": "https://localhost:8080/"
        },
        "id": "dKiyfzwCzaFZ",
        "outputId": "0fc8e872-2786-4ffc-b145-9a924dc276ea"
      },
      "outputs": [],
      "source": [
        "print(\"Comenzando a calcular...\")\n",
        "start = tm.time()\n",
        "parallel_pool = Parallel(n_jobs=4)\n",
        "parallel_sqrt = delayed(sqrt)\n",
        "parallel_tasks = [parallel_sqrt(i) for i in range(n)]\n",
        "parallel_results = parallel_pool(parallel_tasks)\n",
        "end = tm.time()\n",
        "print(f\"Tiempo total: {end - start}s\")"
      ]
    },
    {
      "attachments": {},
      "cell_type": "markdown",
      "metadata": {
        "id": "4zfFot501KeG"
      },
      "source": [
        "¿Qué ocurre si usamos la función raíz de numpy?"
      ]
    },
    {
      "cell_type": "code",
      "execution_count": null,
      "metadata": {
        "colab": {
          "base_uri": "https://localhost:8080/"
        },
        "id": "hIy5wAJKzXN2",
        "outputId": "bbd1530c-5bf4-4492-a561-e3330ff57aa6"
      },
      "outputs": [],
      "source": [
        "print(\"Comenzando a calcular...\")\n",
        "start = tm.time()\n",
        "parallel_pool = Parallel(n_jobs=2)\n",
        "parallel_sqrt = delayed(np.sqrt) # Notar la diferencia\n",
        "parallel_tasks = [parallel_sqrt(i) for i in range(n)]\n",
        "parallel_results = parallel_pool(parallel_tasks)\n",
        "end = tm.time()\n",
        "print(f\"Tiempo total: {end - start}s\")"
      ]
    },
    {
      "attachments": {},
      "cell_type": "markdown",
      "metadata": {
        "id": "CB7eJ_6b9Diw"
      },
      "source": [
        "Finalmente con batch_size fijo:"
      ]
    },
    {
      "cell_type": "code",
      "execution_count": null,
      "metadata": {
        "colab": {
          "base_uri": "https://localhost:8080/"
        },
        "id": "fGEG0I-VzhYS",
        "outputId": "3bab9c95-cd4a-4fe7-d9be-5c54447c6b86"
      },
      "outputs": [],
      "source": [
        "print(\"Comenzando a calcular...\")\n",
        "start = tm.time()\n",
        "parallel_pool = Parallel(n_jobs=2, batch_size=100000)\n",
        "parallel_sqrt = delayed(sqrt)\n",
        "parallel_tasks = [parallel_sqrt(i) for i in range(n)]\n",
        "parallel_results = parallel_pool(parallel_tasks)\n",
        "end = tm.time()\n",
        "print(f\"Tiempo total: {end - start}s\")"
      ]
    },
    {
      "cell_type": "code",
      "execution_count": null,
      "metadata": {
        "colab": {
          "base_uri": "https://localhost:8080/"
        },
        "id": "PdiInRDx9IFA",
        "outputId": "1a5efdd8-eaf9-43ba-b3f6-7aef7ea4fd56"
      },
      "outputs": [],
      "source": [
        "print(\"Comenzando a calcular...\")\n",
        "start = tm.time()\n",
        "parallel_pool = Parallel(n_jobs=2, batch_size=500000)\n",
        "parallel_sqrt = delayed(sqrt)\n",
        "parallel_tasks = [parallel_sqrt(i) for i in range(n)]\n",
        "parallel_results = parallel_pool(parallel_tasks)\n",
        "end = tm.time()\n",
        "print(f\"Tiempo total: {end - start}s\")"
      ]
    },
    {
      "cell_type": "code",
      "execution_count": null,
      "metadata": {
        "id": "i8dx3VA49wBZ"
      },
      "outputs": [],
      "source": [
        "print(\"Comenzando a calcular...\")\n",
        "start = tm.time()\n",
        "parallel_pool = Parallel(n_jobs=4, batch_size=int(n/4))\n",
        "parallel_sqrt = delayed(sqrt)\n",
        "parallel_tasks = [parallel_sqrt(i) for i in range(n)]\n",
        "parallel_results = parallel_pool(parallel_tasks)\n",
        "end = tm.time()\n",
        "print(f\"Tiempo total: {end - start}s\")"
      ]
    },
    {
      "cell_type": "code",
      "execution_count": null,
      "metadata": {},
      "outputs": [],
      "source": []
    }
  ],
  "metadata": {
    "colab": {
      "provenance": []
    },
    "kernelspec": {
      "display_name": "Python 3",
      "name": "python3"
    },
    "language_info": {
      "codemirror_mode": {
        "name": "ipython",
        "version": 3
      },
      "file_extension": ".py",
      "mimetype": "text/x-python",
      "name": "python",
      "nbconvert_exporter": "python",
      "pygments_lexer": "ipython3",
      "version": "3.11.2"
    }
  },
  "nbformat": 4,
  "nbformat_minor": 0
}
