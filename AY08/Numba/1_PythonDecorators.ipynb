{
 "cells": [
  {
   "cell_type": "markdown",
   "id": "711ca4c9",
   "metadata": {},
   "source": [
    "# Python decorators\n",
    "\n",
    " - Elwin van 't Wout\n",
    " - Pontificia Universidad Católica de Chile\n",
    " - IMT3870\n",
    " - 26-8-2024\n",
    " \n",
    "This tutorial shows the functionality of Python *decorators*. A *decorator* is a programming construction that adapts functions."
   ]
  },
  {
   "cell_type": "markdown",
   "id": "98df67de",
   "metadata": {},
   "source": [
    "A Python *function* can take Python objects as input and output. An often used construction is taking a number, or array of numbers, as input of a function, and another number, or array of numbers, as output. Following is an example."
   ]
  },
  {
   "cell_type": "code",
   "execution_count": null,
   "id": "1f86e3de",
   "metadata": {},
   "outputs": [],
   "source": [
    "def my_square(x):\n",
    "    return x**2"
   ]
  },
  {
   "cell_type": "code",
   "execution_count": null,
   "id": "299ead5b",
   "metadata": {},
   "outputs": [],
   "source": [
    "my_square(2)"
   ]
  },
  {
   "cell_type": "markdown",
   "id": "9d5ec8a5",
   "metadata": {},
   "source": [
    "Python functions are objects themselves and can, therefore, be used as input and output of another Python function. The following example takes an arbitrary function, performs additional timing statistics, and returns this new function."
   ]
  },
  {
   "cell_type": "code",
   "execution_count": null,
   "id": "44ad541a",
   "metadata": {},
   "outputs": [],
   "source": [
    "import time\n",
    "\n",
    "def timer(fun):\n",
    "    def function_execution(*args):\n",
    "        print(\"Start execution of function\", fun.__name__, \"at\", time.asctime())\n",
    "        start = time.perf_counter()\n",
    "        output_value = fun(*args)\n",
    "        finish = time.perf_counter()\n",
    "        print(\"Finished execution in\", finish - start, \"seconds\")\n",
    "        return output_value\n",
    "    return function_execution"
   ]
  },
  {
   "cell_type": "code",
   "execution_count": null,
   "id": "f23edf05",
   "metadata": {},
   "outputs": [],
   "source": [
    "my_timed_square = timer(my_square)"
   ]
  },
  {
   "cell_type": "code",
   "execution_count": null,
   "id": "1af60fff",
   "metadata": {},
   "outputs": [],
   "source": [
    "my_timed_square(2)"
   ]
  },
  {
   "cell_type": "markdown",
   "id": "8be2eda8",
   "metadata": {},
   "source": [
    "The idea of decorators is to simplify this process. Above, we needed to create a separate function `my_timed_square` to use the timer for the square operation. However, we might want to use the timing capabilities for other functions as well, like for calculating the cube of a number. The timing functionality can be reused for any function with a *decorator*."
   ]
  },
  {
   "cell_type": "code",
   "execution_count": null,
   "id": "7679f533",
   "metadata": {},
   "outputs": [],
   "source": [
    "@timer\n",
    "def my_cube(x):\n",
    "    return x**3"
   ]
  },
  {
   "cell_type": "code",
   "execution_count": null,
   "id": "aa7bc033",
   "metadata": {},
   "outputs": [],
   "source": [
    "my_cube(2)"
   ]
  },
  {
   "cell_type": "markdown",
   "id": "12e956ba",
   "metadata": {},
   "source": [
    "Notice that we can call the cube function immediately, without creating an additional function."
   ]
  },
  {
   "cell_type": "markdown",
   "id": "a888af5f",
   "metadata": {},
   "source": [
    "Notice that the decorator only takes the function on the next line, not all functions in a cell."
   ]
  },
  {
   "cell_type": "code",
   "execution_count": null,
   "id": "2bd25948",
   "metadata": {},
   "outputs": [],
   "source": [
    "@timer\n",
    "def my_fourth_power(x):\n",
    "    return x**4\n",
    "\n",
    "def my_fifth_power(x):\n",
    "    return x**5"
   ]
  },
  {
   "cell_type": "code",
   "execution_count": null,
   "id": "49590e09",
   "metadata": {},
   "outputs": [],
   "source": [
    "my_fourth_power(2)"
   ]
  },
  {
   "cell_type": "code",
   "execution_count": null,
   "id": "69a98e85",
   "metadata": {},
   "outputs": [],
   "source": [
    "my_fifth_power(2)"
   ]
  },
  {
   "cell_type": "code",
   "execution_count": null,
   "id": "e0d816a9",
   "metadata": {},
   "outputs": [],
   "source": []
  }
 ],
 "metadata": {
  "kernelspec": {
   "display_name": "Python 3 (ipykernel)",
   "language": "python",
   "name": "python3"
  },
  "language_info": {
   "codemirror_mode": {
    "name": "ipython",
    "version": 3
   },
   "file_extension": ".py",
   "mimetype": "text/x-python",
   "name": "python",
   "nbconvert_exporter": "python",
   "pygments_lexer": "ipython3",
   "version": "3.12.5"
  }
 },
 "nbformat": 4,
 "nbformat_minor": 5
}
