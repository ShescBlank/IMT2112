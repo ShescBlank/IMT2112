{
 "cells": [
  {
   "cell_type": "markdown",
   "id": "770a296f",
   "metadata": {},
   "source": [
    "# Parallel functionality of Numba\n",
    "\n",
    " - Elwin van 't Wout\n",
    " - Pontificia Universidad Católica de Chile\n",
    " - IMT3870\n",
    " - 26-8-2024\n",
    "\n",
    "Sum the values of a vector and compare the timing between parallelised versions."
   ]
  },
  {
   "cell_type": "code",
   "execution_count": 1,
   "id": "217c54e1",
   "metadata": {},
   "outputs": [],
   "source": [
    "import numpy as np\n",
    "from numba import njit, prange"
   ]
  },
  {
   "cell_type": "code",
   "execution_count": 2,
   "id": "14629e10",
   "metadata": {},
   "outputs": [],
   "source": [
    "def sum_vector_python(a):\n",
    "    s = 0\n",
    "    for i in range(a.size):\n",
    "        s += a[i]\n",
    "    return s   "
   ]
  },
  {
   "cell_type": "code",
   "execution_count": 3,
   "id": "2f57b2ac",
   "metadata": {},
   "outputs": [],
   "source": [
    "def sum_vector_numpy(a):\n",
    "    s = np.sum(a)\n",
    "    return s   "
   ]
  },
  {
   "cell_type": "markdown",
   "id": "f366e150",
   "metadata": {},
   "source": [
    "We can use Numba to optimize the Python code through its JIT capabilities. Moreover, Numba can automatically parallelise code through the multi-threading paradigm. For this, set the option ```parallel=False```."
   ]
  },
  {
   "cell_type": "code",
   "execution_count": 4,
   "id": "183a1d41",
   "metadata": {},
   "outputs": [],
   "source": [
    "@njit(parallel=False)\n",
    "def sum_vector_numba_serial(a):\n",
    "    s = 0\n",
    "    for i in range(a.size):\n",
    "        s += a[i]\n",
    "    return s   "
   ]
  },
  {
   "cell_type": "markdown",
   "id": "c5f85486",
   "metadata": {},
   "source": [
    "Adding the parallel option to the Numba decorator makes Numba search for parts of the code than can be parallelised. Add the option ```parallel=True``` for automatic parallelisation. In earlier version, this will only work when ```nopython=True```."
   ]
  },
  {
   "cell_type": "code",
   "execution_count": 5,
   "id": "b31b18fc",
   "metadata": {},
   "outputs": [],
   "source": [
    "@njit(parallel=True)\n",
    "def sum_vector_numba_parallel(a):\n",
    "    s = 0\n",
    "    for i in range(a.size):\n",
    "        s += a[i]\n",
    "    return s   "
   ]
  },
  {
   "cell_type": "markdown",
   "id": "ad1e849b",
   "metadata": {},
   "source": [
    "Instead of letting Numba search for parallelisation opportunities, you can also explicitly state that a for loop needs to be parallelised. Use the function ```prange()``` instead of the standard ```range()``` in the for loop. In this case, Numba automatically detects that the variable ```s``` for the sum is a shared variable and solves issues with race conditions."
   ]
  },
  {
   "cell_type": "code",
   "execution_count": 6,
   "id": "3b69d84b",
   "metadata": {},
   "outputs": [],
   "source": [
    "@njit(parallel=True)\n",
    "def sum_vector_numba_prange(a):\n",
    "    s = 0\n",
    "    for i in prange(a.size):\n",
    "        s += a[i]\n",
    "    return s   "
   ]
  },
  {
   "cell_type": "markdown",
   "id": "f2644c21",
   "metadata": {},
   "source": [
    "Let us create a vector with elements $0,1,2,\\dots,n-1$ and calculate the sum."
   ]
  },
  {
   "cell_type": "code",
   "execution_count": 7,
   "id": "6d76abcf",
   "metadata": {},
   "outputs": [],
   "source": [
    "n = int(1e7)\n",
    "vec = np.arange(n)"
   ]
  },
  {
   "cell_type": "markdown",
   "id": "3a4a4710",
   "metadata": {},
   "source": [
    "Before performing the timings, call the Numba functions once, so that they are compiled"
   ]
  },
  {
   "cell_type": "code",
   "execution_count": 8,
   "id": "0188ef52",
   "metadata": {},
   "outputs": [
    {
     "name": "stdout",
     "output_type": "stream",
     "text": [
      "Sum of vector with serial Numba: 49999995000000\n",
      "Sum of vector with parallel Numba: 49999995000000\n"
     ]
    },
    {
     "name": "stderr",
     "output_type": "stream",
     "text": [
      "c:\\Users\\alber\\AppData\\Local\\Programs\\Python\\Python311\\Lib\\site-packages\\numba\\core\\typed_passes.py:334: NumbaPerformanceWarning: \u001b[1m\n",
      "The keyword argument 'parallel=True' was specified but no transformation for parallel execution was possible.\n",
      "\n",
      "To find out why, try turning on parallel diagnostics, see https://numba.readthedocs.io/en/stable/user/parallel.html#diagnostics for help.\n",
      "\u001b[1m\n",
      "File \"..\\..\\..\\..\\..\\..\\..\\AppData\\Local\\Temp\\ipykernel_13076\\1770870890.py\", line 1:\u001b[0m\n",
      "\u001b[1m<source missing, REPL/exec in use?>\u001b[0m\n",
      "\u001b[0m\n",
      "  warnings.warn(errors.NumbaPerformanceWarning(msg,\n"
     ]
    },
    {
     "name": "stdout",
     "output_type": "stream",
     "text": [
      "Sum of vector with prange Numba: 49999995000000\n"
     ]
    }
   ],
   "source": [
    "print(\"Sum of vector with serial Numba:\", sum_vector_numba_serial(vec))\n",
    "print(\"Sum of vector with parallel Numba:\", sum_vector_numba_parallel(vec))\n",
    "print(\"Sum of vector with prange Numba:\", sum_vector_numba_prange(vec))"
   ]
  },
  {
   "cell_type": "markdown",
   "id": "678670a6",
   "metadata": {},
   "source": [
    "Numba may give warnings when it cannot perform the requested optimisation of the code."
   ]
  },
  {
   "cell_type": "code",
   "execution_count": 9,
   "id": "c6814cce",
   "metadata": {},
   "outputs": [
    {
     "name": "stderr",
     "output_type": "stream",
     "text": [
      "C:\\Users\\alber\\AppData\\Local\\Temp\\ipykernel_13076\\1815385635.py:4: RuntimeWarning: overflow encountered in scalar add\n",
      "  s += a[i]\n"
     ]
    },
    {
     "name": "stdout",
     "output_type": "stream",
     "text": [
      "843 ms ± 35.8 ms per loop (mean ± std. dev. of 7 runs, 1 loop each)\n"
     ]
    }
   ],
   "source": [
    "%%timeit\n",
    "sum_vector_python(vec)"
   ]
  },
  {
   "cell_type": "code",
   "execution_count": 10,
   "id": "728db4c7",
   "metadata": {},
   "outputs": [
    {
     "name": "stdout",
     "output_type": "stream",
     "text": [
      "3.64 ms ± 101 µs per loop (mean ± std. dev. of 7 runs, 100 loops each)\n"
     ]
    }
   ],
   "source": [
    "%%timeit\n",
    "sum_vector_numpy(vec)"
   ]
  },
  {
   "cell_type": "code",
   "execution_count": 11,
   "id": "192b5184",
   "metadata": {},
   "outputs": [
    {
     "name": "stdout",
     "output_type": "stream",
     "text": [
      "2.6 ms ± 73.5 µs per loop (mean ± std. dev. of 7 runs, 100 loops each)\n"
     ]
    }
   ],
   "source": [
    "%%timeit\n",
    "sum_vector_numba_serial(vec)"
   ]
  },
  {
   "cell_type": "code",
   "execution_count": 12,
   "id": "a636b5ab",
   "metadata": {},
   "outputs": [
    {
     "name": "stdout",
     "output_type": "stream",
     "text": [
      "2.59 ms ± 124 µs per loop (mean ± std. dev. of 7 runs, 100 loops each)\n"
     ]
    }
   ],
   "source": [
    "%%timeit\n",
    "sum_vector_numba_parallel(vec)"
   ]
  },
  {
   "cell_type": "code",
   "execution_count": 13,
   "id": "842cbee4",
   "metadata": {},
   "outputs": [
    {
     "name": "stdout",
     "output_type": "stream",
     "text": [
      "760 µs ± 41.3 µs per loop (mean ± std. dev. of 7 runs, 1,000 loops each)\n"
     ]
    }
   ],
   "source": [
    "%%timeit\n",
    "sum_vector_numba_prange(vec)"
   ]
  },
  {
   "cell_type": "markdown",
   "id": "4d2f75c6",
   "metadata": {},
   "source": [
    "The number of threads used by Numba is stored in global variables."
   ]
  },
  {
   "cell_type": "code",
   "execution_count": 14,
   "id": "5e71e3e5",
   "metadata": {},
   "outputs": [
    {
     "name": "stdout",
     "output_type": "stream",
     "text": [
      "The number of available CPUs detected by Numba is: 8\n",
      "The number of threads used by Numba is: 8\n"
     ]
    }
   ],
   "source": [
    "from numba import config\n",
    "print(\"The number of available CPUs detected by Numba is:\", config.NUMBA_DEFAULT_NUM_THREADS)\n",
    "print(\"The number of threads used by Numba is:\", config.NUMBA_NUM_THREADS)"
   ]
  },
  {
   "cell_type": "markdown",
   "id": "b78e5700",
   "metadata": {},
   "source": [
    "The number of threads used by Numba can be changed manually."
   ]
  },
  {
   "cell_type": "code",
   "execution_count": 15,
   "id": "9c501c38",
   "metadata": {},
   "outputs": [
    {
     "name": "stdout",
     "output_type": "stream",
     "text": [
      "The current number of threads used by Numba is: 2\n"
     ]
    }
   ],
   "source": [
    "from numba import set_num_threads, get_num_threads\n",
    "set_num_threads(2)\n",
    "print(\"The current number of threads used by Numba is:\", get_num_threads())"
   ]
  },
  {
   "cell_type": "code",
   "execution_count": null,
   "id": "9340dcab",
   "metadata": {},
   "outputs": [],
   "source": []
  }
 ],
 "metadata": {
  "kernelspec": {
   "display_name": "Python 3",
   "language": "python",
   "name": "python3"
  },
  "language_info": {
   "codemirror_mode": {
    "name": "ipython",
    "version": 3
   },
   "file_extension": ".py",
   "mimetype": "text/x-python",
   "name": "python",
   "nbconvert_exporter": "python",
   "pygments_lexer": "ipython3",
   "version": "3.11.2"
  }
 },
 "nbformat": 4,
 "nbformat_minor": 5
}
