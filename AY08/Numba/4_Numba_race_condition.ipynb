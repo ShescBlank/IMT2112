{
 "cells": [
  {
   "cell_type": "markdown",
   "id": "68659313",
   "metadata": {},
   "source": [
    "# Race conditions in parallel Numba\n",
    "\n",
    " - Elwin van 't Wout\n",
    " - Pontificia Universidad Católica de Chile\n",
    " - IMT3870\n",
    " - 26-8-2024\n",
    "\n",
    "This tutorial shows a race condition in a parallel for-loop that leads to code that is not thread safe."
   ]
  },
  {
   "cell_type": "code",
   "execution_count": 1,
   "id": "8cfe49b2",
   "metadata": {},
   "outputs": [],
   "source": [
    "from numba import njit, prange\n",
    "import numpy as np"
   ]
  },
  {
   "cell_type": "markdown",
   "id": "9a315fde",
   "metadata": {},
   "source": [
    "The following code sums the elements of a vector."
   ]
  },
  {
   "cell_type": "code",
   "execution_count": 2,
   "id": "ecdd83c9",
   "metadata": {},
   "outputs": [],
   "source": [
    "@njit(parallel=True)\n",
    "def sum_vector(x):\n",
    "    length = x.shape[0]\n",
    "    s = 0\n",
    "    for i in prange(length):\n",
    "        s += x[i]\n",
    "    return s   "
   ]
  },
  {
   "cell_type": "markdown",
   "id": "04b98951",
   "metadata": {},
   "source": [
    "The expected sum of a vector with elements $0,1,2,\\dots,n-1$ is $(n-1)n/2$."
   ]
  },
  {
   "cell_type": "code",
   "execution_count": 3,
   "id": "fc4d5095",
   "metadata": {},
   "outputs": [
    {
     "name": "stdout",
     "output_type": "stream",
     "text": [
      "The vector with 100000 elements sums to 4999950000\n"
     ]
    }
   ],
   "source": [
    "n = int(1e5)\n",
    "vec = np.arange(n)\n",
    "sum_exact = int((n-1)*n/2)\n",
    "print(\"The vector with\",n,\"elements sums to\",sum_exact)"
   ]
  },
  {
   "cell_type": "code",
   "execution_count": 4,
   "id": "38a3e9ad",
   "metadata": {},
   "outputs": [
    {
     "name": "stdout",
     "output_type": "stream",
     "text": [
      "The sum calculated by Numba is: 4999950000\n"
     ]
    }
   ],
   "source": [
    "sum_numba = sum_vector(vec)\n",
    "print(\"The sum calculated by Numba is:\",sum_numba)"
   ]
  },
  {
   "cell_type": "markdown",
   "id": "33307306",
   "metadata": {},
   "source": [
    "Now, let us create an array with four elements, and calculate the sum of the input vector for each element of the output array. With Python broadcasting, you can add each element of the input array to the entire output array."
   ]
  },
  {
   "cell_type": "code",
   "execution_count": 5,
   "id": "85447bdd",
   "metadata": {},
   "outputs": [],
   "source": [
    "@njit(parallel=True)\n",
    "def sum_vector_in_array_race_condition(x):\n",
    "    length = x.shape[0]\n",
    "    s = np.zeros(4, dtype=np.int_)\n",
    "    for i in prange(length):\n",
    "        s[:] += x[i]\n",
    "    return s"
   ]
  },
  {
   "cell_type": "code",
   "execution_count": 6,
   "id": "974abac2",
   "metadata": {},
   "outputs": [
    {
     "name": "stdout",
     "output_type": "stream",
     "text": [
      "The sum calculated by Numba is: [1927748978 2055798753 1979814415 2010307473]\n"
     ]
    }
   ],
   "source": [
    "sum_race = sum_vector_in_array_race_condition(vec)\n",
    "print(\"The sum calculated by Numba is:\",sum_race)"
   ]
  },
  {
   "cell_type": "markdown",
   "id": "797b1e6f",
   "metadata": {},
   "source": [
    "The four elements of the output array should all be the sum of the input vector, but this is not the case. The code is not thread safe! Each element is different because there is a race condition."
   ]
  },
  {
   "cell_type": "markdown",
   "id": "ab24b8f0",
   "metadata": {},
   "source": [
    "The following adaptation solves the race condition because it changes the data types such that Numba understands the race condition and parallelises the code correctly. Specifically, you need to create a slice reference outside the loop."
   ]
  },
  {
   "cell_type": "code",
   "execution_count": 7,
   "id": "9eb742e3",
   "metadata": {},
   "outputs": [],
   "source": [
    "@njit(parallel=True)\n",
    "def sum_vector_in_array_safe(x):\n",
    "    length = x.shape[0]\n",
    "    y = np.zeros(4, dtype=np.int_)\n",
    "    s = y[:]\n",
    "    for i in prange(length):\n",
    "        s += x[i]\n",
    "    return s"
   ]
  },
  {
   "cell_type": "code",
   "execution_count": 8,
   "id": "d86836cc",
   "metadata": {},
   "outputs": [
    {
     "name": "stdout",
     "output_type": "stream",
     "text": [
      "The sum calculated by Numba is: [704982704 704982704 704982704 704982704]\n"
     ]
    }
   ],
   "source": [
    "sum_safe = sum_vector_in_array_safe(vec)\n",
    "print(\"The sum calculated by Numba is:\",sum_safe)"
   ]
  },
  {
   "cell_type": "code",
   "execution_count": null,
   "id": "df608a2a",
   "metadata": {},
   "outputs": [],
   "source": []
  }
 ],
 "metadata": {
  "kernelspec": {
   "display_name": "Python 3",
   "language": "python",
   "name": "python3"
  },
  "language_info": {
   "codemirror_mode": {
    "name": "ipython",
    "version": 3
   },
   "file_extension": ".py",
   "mimetype": "text/x-python",
   "name": "python",
   "nbconvert_exporter": "python",
   "pygments_lexer": "ipython3",
   "version": "3.11.2"
  }
 },
 "nbformat": 4,
 "nbformat_minor": 5
}
