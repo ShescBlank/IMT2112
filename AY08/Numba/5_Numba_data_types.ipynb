{
 "cells": [
  {
   "cell_type": "markdown",
   "id": "68659313",
   "metadata": {},
   "source": [
    "# Data types in Numba\n",
    "\n",
    " - Elwin van 't Wout\n",
    " - Pontificia Universidad Católica de Chile\n",
    " - IMT3870\n",
    " - 26-8-2024\n",
    "\n",
    "This tutorial shows the sensitivity of Numba to data types."
   ]
  },
  {
   "cell_type": "code",
   "execution_count": 1,
   "id": "8cfe49b2",
   "metadata": {},
   "outputs": [],
   "source": [
    "from numba import njit\n",
    "import numpy as np"
   ]
  },
  {
   "cell_type": "markdown",
   "id": "b3286f6e-2276-4de2-85df-84cc1d119a8f",
   "metadata": {},
   "source": [
    "Let us create a function that adds a given matrix to the input variable. Since the matrix is of integer type, we specify this explicitly as well."
   ]
  },
  {
   "cell_type": "code",
   "execution_count": 13,
   "id": "fee72232-ec5b-4f01-9013-338d11840211",
   "metadata": {},
   "outputs": [],
   "source": [
    "@njit\n",
    "def add_to_matrix(x):\n",
    "    my_matrix = np.array([[11, 12, 13], [21, 22, 23]])\n",
    "    sum = my_matrix + x\n",
    "    return sum"
   ]
  },
  {
   "cell_type": "code",
   "execution_count": 14,
   "id": "1963d10a-e27b-434e-ab7e-3a1496f7c094",
   "metadata": {},
   "outputs": [],
   "source": [
    "@njit\n",
    "def add_to_matrix_int(x):\n",
    "    my_matrix = np.array([[11, 12, 13], [21, 22, 23]], dtype=int)\n",
    "    sum = my_matrix + x\n",
    "    return sum"
   ]
  },
  {
   "cell_type": "code",
   "execution_count": 15,
   "id": "db67d1f5-c2ef-4b0c-b772-4bee5768915e",
   "metadata": {},
   "outputs": [],
   "source": [
    "@njit\n",
    "def add_to_matrix_npint32(x):\n",
    "    my_matrix = np.array([[11, 12, 13], [21, 22, 23]], dtype=np.int32)\n",
    "    sum = my_matrix + x\n",
    "    return sum"
   ]
  },
  {
   "cell_type": "code",
   "execution_count": 16,
   "id": "cf33edf1-b6d5-49df-b33b-e3e34e111605",
   "metadata": {},
   "outputs": [],
   "source": [
    "@njit\n",
    "def add_to_matrix_npint64(x):\n",
    "    my_matrix = np.array([[11, 12, 13], [21, 22, 23]], dtype=np.int64)\n",
    "    sum = my_matrix + x\n",
    "    return sum"
   ]
  },
  {
   "cell_type": "markdown",
   "id": "2de4757f-72bf-49d3-86e9-37a72546b302",
   "metadata": {},
   "source": [
    "Let's apply the functionality to a matrix with the same size and data type."
   ]
  },
  {
   "cell_type": "code",
   "execution_count": 22,
   "id": "c409779c-f071-482d-a91e-88dc4f2ef1f8",
   "metadata": {},
   "outputs": [
    {
     "name": "stdout",
     "output_type": "stream",
     "text": [
      "Matrix:\n",
      " [[1 2 3]\n",
      " [4 5 6]]\n",
      "Data type: int32\n"
     ]
    }
   ],
   "source": [
    "matrix_int_2_x_3 = np.array([[1, 2, 3], [4, 5, 6]], dtype=int)\n",
    "print(\"Matrix:\\n\", matrix_int_2_x_3)\n",
    "print(\"Data type:\", matrix_int_2_x_3.dtype)"
   ]
  },
  {
   "cell_type": "code",
   "execution_count": 23,
   "id": "635f56d2-56fe-41c8-bb99-78e748c41ce7",
   "metadata": {},
   "outputs": [
    {
     "name": "stdout",
     "output_type": "stream",
     "text": [
      "[[12 14 16]\n",
      " [25 27 29]]\n"
     ]
    }
   ],
   "source": [
    "result_int_2_x_3 = add_to_matrix(matrix_int_2_x_3)\n",
    "print(result_int_2_x_3)"
   ]
  },
  {
   "cell_type": "code",
   "execution_count": 24,
   "id": "dddee2ac-2f07-4105-99a0-ddc55c87d7da",
   "metadata": {},
   "outputs": [
    {
     "ename": "TypingError",
     "evalue": "Failed in nopython mode pipeline (step: nopython frontend)\n\u001b[1m\u001b[1m\u001b[1mNo implementation of function Function(<built-in function array>) found for signature:\n \n >>> array(list(list(int64)<iv=None>)<iv=None>, dtype=Function(<class 'int'>))\n \nThere are 2 candidate implementations:\n\u001b[1m      - Of which 2 did not match due to:\n      Overload in function 'impl_np_array': File: numba\\np\\arrayobj.py: Line 5242.\n        With argument(s): '(list(list(int64)<iv=None>)<iv=None>, dtype=Function(<class 'int'>))':\u001b[0m\n\u001b[1m       Rejected as the implementation raised a specific error:\n         TypingError: \u001b[1mThe argument \"dtype\" must be a data-type if it is provided\u001b[0m\u001b[0m\n  raised from c:\\Users\\alber\\AppData\\Local\\Programs\\Python\\Python311\\Lib\\site-packages\\numba\\np\\arrayobj.py:5250\n\u001b[0m\n\u001b[0m\u001b[1mDuring: resolving callee type: Function(<built-in function array>)\u001b[0m\n\u001b[0m\u001b[1mDuring: typing of call at C:\\Users\\alber\\AppData\\Local\\Temp\\ipykernel_5328\\785250876.py (3)\n\u001b[0m\n\u001b[1m\nFile \"..\\..\\..\\..\\..\\..\\..\\AppData\\Local\\Temp\\ipykernel_5328\\785250876.py\", line 3:\u001b[0m\n\u001b[1m<source missing, REPL/exec in use?>\u001b[0m\n",
     "output_type": "error",
     "traceback": [
      "\u001b[1;31m---------------------------------------------------------------------------\u001b[0m",
      "\u001b[1;31mTypingError\u001b[0m                               Traceback (most recent call last)",
      "Cell \u001b[1;32mIn[24], line 1\u001b[0m\n\u001b[1;32m----> 1\u001b[0m result_int_2_x_3 \u001b[38;5;241m=\u001b[39m \u001b[43madd_to_matrix_int\u001b[49m\u001b[43m(\u001b[49m\u001b[43mmatrix_int_2_x_3\u001b[49m\u001b[43m)\u001b[49m\n\u001b[0;32m      2\u001b[0m \u001b[38;5;28mprint\u001b[39m(result_int_2_x_3)\n",
      "File \u001b[1;32mc:\\Users\\alber\\AppData\\Local\\Programs\\Python\\Python311\\Lib\\site-packages\\numba\\core\\dispatcher.py:468\u001b[0m, in \u001b[0;36m_DispatcherBase._compile_for_args\u001b[1;34m(self, *args, **kws)\u001b[0m\n\u001b[0;32m    464\u001b[0m         msg \u001b[38;5;241m=\u001b[39m (\u001b[38;5;124mf\u001b[39m\u001b[38;5;124m\"\u001b[39m\u001b[38;5;132;01m{\u001b[39;00m\u001b[38;5;28mstr\u001b[39m(e)\u001b[38;5;241m.\u001b[39mrstrip()\u001b[38;5;132;01m}\u001b[39;00m\u001b[38;5;124m \u001b[39m\u001b[38;5;130;01m\\n\u001b[39;00m\u001b[38;5;130;01m\\n\u001b[39;00m\u001b[38;5;124mThis error may have been caused \u001b[39m\u001b[38;5;124m\"\u001b[39m\n\u001b[0;32m    465\u001b[0m                \u001b[38;5;124mf\u001b[39m\u001b[38;5;124m\"\u001b[39m\u001b[38;5;124mby the following argument(s):\u001b[39m\u001b[38;5;130;01m\\n\u001b[39;00m\u001b[38;5;132;01m{\u001b[39;00margs_str\u001b[38;5;132;01m}\u001b[39;00m\u001b[38;5;130;01m\\n\u001b[39;00m\u001b[38;5;124m\"\u001b[39m)\n\u001b[0;32m    466\u001b[0m         e\u001b[38;5;241m.\u001b[39mpatch_message(msg)\n\u001b[1;32m--> 468\u001b[0m     \u001b[43merror_rewrite\u001b[49m\u001b[43m(\u001b[49m\u001b[43me\u001b[49m\u001b[43m,\u001b[49m\u001b[43m \u001b[49m\u001b[38;5;124;43m'\u001b[39;49m\u001b[38;5;124;43mtyping\u001b[39;49m\u001b[38;5;124;43m'\u001b[39;49m\u001b[43m)\u001b[49m\n\u001b[0;32m    469\u001b[0m \u001b[38;5;28;01mexcept\u001b[39;00m errors\u001b[38;5;241m.\u001b[39mUnsupportedError \u001b[38;5;28;01mas\u001b[39;00m e:\n\u001b[0;32m    470\u001b[0m     \u001b[38;5;66;03m# Something unsupported is present in the user code, add help info\u001b[39;00m\n\u001b[0;32m    471\u001b[0m     error_rewrite(e, \u001b[38;5;124m'\u001b[39m\u001b[38;5;124munsupported_error\u001b[39m\u001b[38;5;124m'\u001b[39m)\n",
      "File \u001b[1;32mc:\\Users\\alber\\AppData\\Local\\Programs\\Python\\Python311\\Lib\\site-packages\\numba\\core\\dispatcher.py:409\u001b[0m, in \u001b[0;36m_DispatcherBase._compile_for_args.<locals>.error_rewrite\u001b[1;34m(e, issue_type)\u001b[0m\n\u001b[0;32m    407\u001b[0m     \u001b[38;5;28;01mraise\u001b[39;00m e\n\u001b[0;32m    408\u001b[0m \u001b[38;5;28;01melse\u001b[39;00m:\n\u001b[1;32m--> 409\u001b[0m     \u001b[38;5;28;01mraise\u001b[39;00m e\u001b[38;5;241m.\u001b[39mwith_traceback(\u001b[38;5;28;01mNone\u001b[39;00m)\n",
      "\u001b[1;31mTypingError\u001b[0m: Failed in nopython mode pipeline (step: nopython frontend)\n\u001b[1m\u001b[1m\u001b[1mNo implementation of function Function(<built-in function array>) found for signature:\n \n >>> array(list(list(int64)<iv=None>)<iv=None>, dtype=Function(<class 'int'>))\n \nThere are 2 candidate implementations:\n\u001b[1m      - Of which 2 did not match due to:\n      Overload in function 'impl_np_array': File: numba\\np\\arrayobj.py: Line 5242.\n        With argument(s): '(list(list(int64)<iv=None>)<iv=None>, dtype=Function(<class 'int'>))':\u001b[0m\n\u001b[1m       Rejected as the implementation raised a specific error:\n         TypingError: \u001b[1mThe argument \"dtype\" must be a data-type if it is provided\u001b[0m\u001b[0m\n  raised from c:\\Users\\alber\\AppData\\Local\\Programs\\Python\\Python311\\Lib\\site-packages\\numba\\np\\arrayobj.py:5250\n\u001b[0m\n\u001b[0m\u001b[1mDuring: resolving callee type: Function(<built-in function array>)\u001b[0m\n\u001b[0m\u001b[1mDuring: typing of call at C:\\Users\\alber\\AppData\\Local\\Temp\\ipykernel_5328\\785250876.py (3)\n\u001b[0m\n\u001b[1m\nFile \"..\\..\\..\\..\\..\\..\\..\\AppData\\Local\\Temp\\ipykernel_5328\\785250876.py\", line 3:\u001b[0m\n\u001b[1m<source missing, REPL/exec in use?>\u001b[0m\n"
     ]
    }
   ],
   "source": [
    "result_int_2_x_3 = add_to_matrix_int(matrix_int_2_x_3)\n",
    "print(result_int_2_x_3)"
   ]
  },
  {
   "cell_type": "code",
   "execution_count": 25,
   "id": "ddc209e9-878a-4215-81de-c52b042b8a10",
   "metadata": {},
   "outputs": [
    {
     "name": "stdout",
     "output_type": "stream",
     "text": [
      "[[12 14 16]\n",
      " [25 27 29]]\n"
     ]
    }
   ],
   "source": [
    "result_int_2_x_3 = add_to_matrix_npint32(matrix_int_2_x_3)\n",
    "print(result_int_2_x_3)"
   ]
  },
  {
   "cell_type": "code",
   "execution_count": 26,
   "id": "1b8dbc2c-86df-40a6-894f-73bcdb8a47e4",
   "metadata": {},
   "outputs": [
    {
     "name": "stdout",
     "output_type": "stream",
     "text": [
      "[[12 14 16]\n",
      " [25 27 29]]\n"
     ]
    }
   ],
   "source": [
    "result_int_2_x_3 = add_to_matrix_npint64(matrix_int_2_x_3)\n",
    "print(result_int_2_x_3)"
   ]
  },
  {
   "cell_type": "markdown",
   "id": "c45f83ed-dc30-4a26-b91b-f5df7ab0c2a8",
   "metadata": {},
   "source": [
    "The result is indeed as expected, the sum of the two matrices. However, the second implementation raises an error. Reading the error message suggests a problem with the data type. This is strange, because the matrix to add was defined with ```dtype=int``` as in the Numba function. Still it raises an error since ```int``` is a data type managed by Python and ```np.int64``` a data type managed by NumPy.\n",
    "\n",
    "Regardless of this specific example, it is recommended to check data types when using Numba. It is a common error to have incompatibilities in data type since Numba infers the data type from the function and optimises the code accordingly."
   ]
  },
  {
   "cell_type": "code",
   "execution_count": null,
   "id": "df608a2a",
   "metadata": {},
   "outputs": [],
   "source": []
  }
 ],
 "metadata": {
  "kernelspec": {
   "display_name": "Python 3",
   "language": "python",
   "name": "python3"
  },
  "language_info": {
   "codemirror_mode": {
    "name": "ipython",
    "version": 3
   },
   "file_extension": ".py",
   "mimetype": "text/x-python",
   "name": "python",
   "nbconvert_exporter": "python",
   "pygments_lexer": "ipython3",
   "version": "3.11.2"
  }
 },
 "nbformat": 4,
 "nbformat_minor": 5
}
