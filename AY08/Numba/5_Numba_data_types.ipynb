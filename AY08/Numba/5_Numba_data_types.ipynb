{
 "cells": [
  {
   "cell_type": "markdown",
   "id": "68659313",
   "metadata": {},
   "source": [
    "# Data types in Numba\n",
    "\n",
    " - Elwin van 't Wout\n",
    " - Pontificia Universidad Católica de Chile\n",
    " - IMT3870\n",
    " - 26-8-2024\n",
    "\n",
    "This tutorial shows the sensitivity of Numba to data types."
   ]
  },
  {
   "cell_type": "code",
   "execution_count": 15,
   "id": "8cfe49b2",
   "metadata": {},
   "outputs": [],
   "source": [
    "from numba import njit\n",
    "import numpy as np"
   ]
  },
  {
   "cell_type": "markdown",
   "id": "b3286f6e-2276-4de2-85df-84cc1d119a8f",
   "metadata": {},
   "source": [
    "Let us create a function that adds a given matrix to the input variable. Since the matrix is of integer type, we specify this explicitly as well."
   ]
  },
  {
   "cell_type": "code",
   "execution_count": 16,
   "id": "fee72232-ec5b-4f01-9013-338d11840211",
   "metadata": {},
   "outputs": [],
   "source": [
    "@njit\n",
    "def add_to_matrix(x):\n",
    "    my_matrix = np.array([[11, 12, 13], [21, 22, 23]])\n",
    "    sum = my_matrix + x\n",
    "    return sum"
   ]
  },
  {
   "cell_type": "code",
   "execution_count": 17,
   "id": "1963d10a-e27b-434e-ab7e-3a1496f7c094",
   "metadata": {},
   "outputs": [],
   "source": [
    "@njit\n",
    "def add_to_matrix_int(x):\n",
    "    my_matrix = np.array([[11, 12, 13], [21, 22, 23]], dtype=int)\n",
    "    sum = my_matrix + x\n",
    "    return sum"
   ]
  },
  {
   "cell_type": "code",
   "execution_count": 18,
   "id": "db67d1f5-c2ef-4b0c-b772-4bee5768915e",
   "metadata": {},
   "outputs": [],
   "source": [
    "@njit\n",
    "def add_to_matrix_npint32(x):\n",
    "    my_matrix = np.array([[11, 12, 13], [21, 22, 23]], dtype=np.int32)\n",
    "    sum = my_matrix + x\n",
    "    return sum"
   ]
  },
  {
   "cell_type": "code",
   "execution_count": 19,
   "id": "cf33edf1-b6d5-49df-b33b-e3e34e111605",
   "metadata": {},
   "outputs": [],
   "source": [
    "@njit\n",
    "def add_to_matrix_npint64(x):\n",
    "    my_matrix = np.array([[11, 12, 13], [21, 22, 23]], dtype=np.int64)\n",
    "    sum = my_matrix + x\n",
    "    return sum"
   ]
  },
  {
   "cell_type": "markdown",
   "id": "2de4757f-72bf-49d3-86e9-37a72546b302",
   "metadata": {},
   "source": [
    "Let's apply the functionality to a matrix with the same size and data type."
   ]
  },
  {
   "cell_type": "code",
   "execution_count": null,
   "id": "c409779c-f071-482d-a91e-88dc4f2ef1f8",
   "metadata": {},
   "outputs": [],
   "source": [
    "matrix_int_2_x_3 = np.array([[1, 2, 3], [4, 5, 6]], dtype=int)\n",
    "print(\"Matrix:\\n\", matrix_int_2_x_3)\n",
    "print(\"Data type:\", matrix_int_2_x_3.dtype)"
   ]
  },
  {
   "cell_type": "code",
   "execution_count": null,
   "id": "635f56d2-56fe-41c8-bb99-78e748c41ce7",
   "metadata": {},
   "outputs": [],
   "source": [
    "result_int_2_x_3 = add_to_matrix(matrix_int_2_x_3)\n",
    "print(result_int_2_x_3)"
   ]
  },
  {
   "cell_type": "code",
   "execution_count": null,
   "id": "dddee2ac-2f07-4105-99a0-ddc55c87d7da",
   "metadata": {},
   "outputs": [],
   "source": [
    "result_int_2_x_3 = add_to_matrix_int(matrix_int_2_x_3)\n",
    "print(result_int_2_x_3)"
   ]
  },
  {
   "cell_type": "code",
   "execution_count": null,
   "id": "ddc209e9-878a-4215-81de-c52b042b8a10",
   "metadata": {},
   "outputs": [],
   "source": [
    "result_int_2_x_3 = add_to_matrix_npint32(matrix_int_2_x_3)\n",
    "print(result_int_2_x_3)"
   ]
  },
  {
   "cell_type": "code",
   "execution_count": null,
   "id": "1b8dbc2c-86df-40a6-894f-73bcdb8a47e4",
   "metadata": {},
   "outputs": [],
   "source": [
    "result_int_2_x_3 = add_to_matrix_npint64(matrix_int_2_x_3)\n",
    "print(result_int_2_x_3)"
   ]
  },
  {
   "cell_type": "markdown",
   "id": "c45f83ed-dc30-4a26-b91b-f5df7ab0c2a8",
   "metadata": {},
   "source": [
    "The result is indeed as expected, the sum of the two matrices. However, the second implementation raises an error. Reading the error message suggests a problem with the data type. This is strange, because the matrix to add was defined with ```dtype=int``` as in the Numba function. Still it raises an error since ```int``` is a data type managed by Python and ```np.int64``` a data type managed by NumPy.\n",
    "\n",
    "Regardless of this specific example, it is recommended to check data types when using Numba. It is a common error to have incompatibilities in data type since Numba infers the data type from the function and optimises the code accordingly."
   ]
  },
  {
   "cell_type": "code",
   "execution_count": null,
   "id": "df608a2a",
   "metadata": {},
   "outputs": [],
   "source": []
  }
 ],
 "metadata": {
  "kernelspec": {
   "display_name": "Python 3",
   "language": "python",
   "name": "python3"
  },
  "language_info": {
   "codemirror_mode": {
    "name": "ipython",
    "version": 3
   },
   "file_extension": ".py",
   "mimetype": "text/x-python",
   "name": "python",
   "nbconvert_exporter": "python",
   "pygments_lexer": "ipython3",
   "version": "3.12.3"
  }
 },
 "nbformat": 4,
 "nbformat_minor": 5
}
