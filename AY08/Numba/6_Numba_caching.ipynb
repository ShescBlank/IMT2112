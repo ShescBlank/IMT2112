{
 "cells": [
  {
   "cell_type": "markdown",
   "id": "770a296f",
   "metadata": {},
   "source": [
    "# Caching with Numba\n",
    "\n",
    " - Elwin van 't Wout\n",
    " - Pontificia Universidad Católica de Chile\n",
    " - IMT3870\n",
    " - 28-8-2023\n",
    "\n",
    "Cache a function optimised by Numba."
   ]
  },
  {
   "cell_type": "code",
   "execution_count": 1,
   "id": "217c54e1",
   "metadata": {},
   "outputs": [],
   "source": [
    "import time\n",
    "import numpy as np\n",
    "from numba import jit"
   ]
  },
  {
   "cell_type": "markdown",
   "id": "6192058c",
   "metadata": {},
   "source": [
    "Numba uses JIT to compile functions when they are called for the first time. The compiled function will be immediately used for subsequent calls. This means that after restarting the kernel or shutting down the Jupyter notebook, the compiled function will be *lost*. Numba can store the compiled function on disk, called *caching* (not to be confused with the cache memory)."
   ]
  },
  {
   "cell_type": "code",
   "execution_count": 2,
   "id": "2f57b2ac",
   "metadata": {},
   "outputs": [],
   "source": [
    "@jit(nopython=True, cache=False)\n",
    "def sum_vector_no_cache(a):\n",
    "    s = np.sum(a)\n",
    "    return s\n",
    "\n",
    "@jit(nopython=True, cache=True)\n",
    "def sum_vector_cached(a):\n",
    "    s = np.sum(a)\n",
    "    return s"
   ]
  },
  {
   "cell_type": "code",
   "execution_count": 3,
   "id": "eb370ff0",
   "metadata": {},
   "outputs": [],
   "source": [
    "n = int(1e7)\n",
    "vec = np.arange(n)"
   ]
  },
  {
   "cell_type": "markdown",
   "id": "c63e69dc",
   "metadata": {},
   "source": [
    "The first call is always slow because the code needs to be compiled."
   ]
  },
  {
   "cell_type": "code",
   "execution_count": 4,
   "id": "d171e3dc",
   "metadata": {},
   "outputs": [
    {
     "name": "stdout",
     "output_type": "stream",
     "text": [
      "The 1st call to the Numba function took: 0.5009028911590576 seconds.\n",
      "The 2nd call to the Numba function took: 0.012819528579711914 seconds.\n",
      "The 3rd call to the Numba function took: 0.001155853271484375 seconds.\n"
     ]
    }
   ],
   "source": [
    "time_1 = time.time()\n",
    "sum_vector_no_cache(vec)\n",
    "time_2 = time.time()\n",
    "sum_vector_no_cache(vec)\n",
    "time_3 = time.time()\n",
    "sum_vector_no_cache(vec)\n",
    "time_4 = time.time()\n",
    "print(\"The 1st call to the Numba function took:\",time_2-time_1,\"seconds.\")\n",
    "print(\"The 2nd call to the Numba function took:\",time_3-time_2,\"seconds.\")\n",
    "print(\"The 3rd call to the Numba function took:\",time_4-time_3,\"seconds.\")"
   ]
  },
  {
   "cell_type": "code",
   "execution_count": 5,
   "id": "2b2876b2",
   "metadata": {},
   "outputs": [
    {
     "name": "stdout",
     "output_type": "stream",
     "text": [
      "The 1st call to the Numba function took: 0.03046727180480957 seconds.\n",
      "The 2nd call to the Numba function took: 0.0 seconds.\n",
      "The 3rd call to the Numba function took: 0.0 seconds.\n"
     ]
    }
   ],
   "source": [
    "time_1 = time.time()\n",
    "sum_vector_cached(vec)\n",
    "time_2 = time.time()\n",
    "sum_vector_cached(vec)\n",
    "time_3 = time.time()\n",
    "sum_vector_cached(vec)\n",
    "time_4 = time.time()\n",
    "print(\"The 1st call to the Numba function took:\",time_2-time_1,\"seconds.\")\n",
    "print(\"The 2nd call to the Numba function took:\",time_3-time_2,\"seconds.\")\n",
    "print(\"The 3rd call to the Numba function took:\",time_4-time_3,\"seconds.\")"
   ]
  },
  {
   "cell_type": "markdown",
   "id": "2f755ede",
   "metadata": {},
   "source": [
    "The very first time this Notebook is used, Numba needs to perform the optimisation and compilation, which takes time. Next time, the first call will be fast as well. It is slightly slower than the second and third call since the compiled code needs to be read from disk, but much quicker than without caching."
   ]
  },
  {
   "cell_type": "code",
   "execution_count": null,
   "id": "5b86341a",
   "metadata": {},
   "outputs": [],
   "source": []
  }
 ],
 "metadata": {
  "kernelspec": {
   "display_name": "Python 3",
   "language": "python",
   "name": "python3"
  },
  "language_info": {
   "codemirror_mode": {
    "name": "ipython",
    "version": 3
   },
   "file_extension": ".py",
   "mimetype": "text/x-python",
   "name": "python",
   "nbconvert_exporter": "python",
   "pygments_lexer": "ipython3",
   "version": "3.11.2"
  }
 },
 "nbformat": 4,
 "nbformat_minor": 5
}
