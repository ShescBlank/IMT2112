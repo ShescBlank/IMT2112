{
 "cells": [
  {
   "cell_type": "markdown",
   "id": "770a296f",
   "metadata": {},
   "source": [
    "# Parallel functionality of Numba\n",
    "\n",
    " - Elwin van 't Wout\n",
    " - Pontificia Universidad Católica de Chile\n",
    " - IMT3870\n",
    " - 28-8-2023\n",
    "\n",
    "Sum the values of a vector and compare the timing between parallelised versions."
   ]
  },
  {
   "cell_type": "code",
   "execution_count": 1,
   "id": "217c54e1",
   "metadata": {},
   "outputs": [],
   "source": [
    "import numpy as np\n",
    "from numba import jit, prange"
   ]
  },
  {
   "cell_type": "code",
   "execution_count": 2,
   "id": "14629e10",
   "metadata": {},
   "outputs": [],
   "source": [
    "def sum_vector_python(a):\n",
    "    s = 0\n",
    "    for i in range(a.size):\n",
    "        s += a[i]\n",
    "    return s   "
   ]
  },
  {
   "cell_type": "code",
   "execution_count": 3,
   "id": "2f57b2ac",
   "metadata": {},
   "outputs": [],
   "source": [
    "def sum_vector_numpy(a):\n",
    "    s = np.sum(a)\n",
    "    return s   "
   ]
  },
  {
   "cell_type": "markdown",
   "id": "f366e150",
   "metadata": {},
   "source": [
    "For Numba, we can use exactly the same function as before but with the Numba decorator added. As the first version, we use the Numba optimisation (```nopython=True```) but without parallelisation (```parallel=False```)."
   ]
  },
  {
   "cell_type": "code",
   "execution_count": 4,
   "id": "183a1d41",
   "metadata": {},
   "outputs": [],
   "source": [
    "@jit(nopython=True, parallel=False)\n",
    "def sum_vector_numba_serial(a):\n",
    "    s = 0\n",
    "    for i in range(a.size):\n",
    "        s += a[i]\n",
    "    return s   "
   ]
  },
  {
   "cell_type": "markdown",
   "id": "c5f85486",
   "metadata": {},
   "source": [
    "Adding the parallel option to the Numba decorator makes Numba search for parts of the code than can be parallelised. Add the option ```parallel=True``` for automatic parallelisation. This will only work when ```nopython=True```."
   ]
  },
  {
   "cell_type": "code",
   "execution_count": 5,
   "id": "b31b18fc",
   "metadata": {},
   "outputs": [],
   "source": [
    "@jit(nopython=True, parallel=True)\n",
    "def sum_vector_numba_parallel(a):\n",
    "    s = 0\n",
    "    for i in range(a.size):\n",
    "        s += a[i]\n",
    "    return s   "
   ]
  },
  {
   "cell_type": "markdown",
   "id": "ad1e849b",
   "metadata": {},
   "source": [
    "Instead of letting Numba search for parallelisation opportunities, you can explicitly state that a for loop needs to be parallelised. Use the function ```prange()``` instead of the standard ```range()```in the for loop. In this case, Numba automatically detects that the variable ```s``` for the sum is a shared variable."
   ]
  },
  {
   "cell_type": "code",
   "execution_count": 6,
   "id": "3b69d84b",
   "metadata": {},
   "outputs": [],
   "source": [
    "@jit(nopython=True, parallel=True)\n",
    "def sum_vector_numba_prange(a):\n",
    "    s = 0\n",
    "    for i in prange(a.size):\n",
    "        s += a[i]\n",
    "    return s   "
   ]
  },
  {
   "cell_type": "markdown",
   "id": "f2644c21",
   "metadata": {},
   "source": [
    "Let us create a vector with elements $0,1,2,\\dots,n-1$ and calculate the sum."
   ]
  },
  {
   "cell_type": "code",
   "execution_count": 7,
   "id": "6d76abcf",
   "metadata": {},
   "outputs": [],
   "source": [
    "n = int(1e7)\n",
    "vec = np.arange(n)"
   ]
  },
  {
   "cell_type": "markdown",
   "id": "3a4a4710",
   "metadata": {},
   "source": [
    "Before performing the timings, call the Numba functions once, so that they are compiled"
   ]
  },
  {
   "cell_type": "code",
   "execution_count": 8,
   "id": "0188ef52",
   "metadata": {},
   "outputs": [
    {
     "name": "stdout",
     "output_type": "stream",
     "text": [
      "Sum of vector with serial Numba: 49999995000000\n",
      "Sum of vector with parallel Numba: 49999995000000\n"
     ]
    },
    {
     "name": "stderr",
     "output_type": "stream",
     "text": [
      "c:\\Users\\Shesc\\AppData\\Local\\Programs\\Python\\Python312\\Lib\\site-packages\\numba\\core\\typed_passes.py:336: NumbaPerformanceWarning: \u001b[1m\n",
      "The keyword argument 'parallel=True' was specified but no transformation for parallel execution was possible.\n",
      "\n",
      "To find out why, try turning on parallel diagnostics, see https://numba.readthedocs.io/en/stable/user/parallel.html#diagnostics for help.\n",
      "\u001b[1m\n",
      "File \"C:\\Users\\Shesc\\AppData\\Local\\Temp\\ipykernel_3988\\1566478512.py\", line 2:\u001b[0m\n",
      "\u001b[1m@jit(nopython=True, parallel=True)\n",
      "\u001b[1mdef sum_vector_numba_parallel(a):\n",
      "\u001b[0m\u001b[1m^\u001b[0m\u001b[0m\n",
      "\u001b[0m\n",
      "  warnings.warn(errors.NumbaPerformanceWarning(msg,\n"
     ]
    },
    {
     "name": "stdout",
     "output_type": "stream",
     "text": [
      "Sum of vector with prange Numba: 49999995000000\n"
     ]
    }
   ],
   "source": [
    "print(\"Sum of vector with serial Numba:\", sum_vector_numba_serial(vec))\n",
    "print(\"Sum of vector with parallel Numba:\", sum_vector_numba_parallel(vec))\n",
    "print(\"Sum of vector with prange Numba:\", sum_vector_numba_prange(vec))"
   ]
  },
  {
   "cell_type": "markdown",
   "id": "678670a6",
   "metadata": {},
   "source": [
    "Numba might give warnings when it is not able to perform the requested optimisation of the code."
   ]
  },
  {
   "cell_type": "code",
   "execution_count": 9,
   "id": "c6814cce",
   "metadata": {},
   "outputs": [
    {
     "name": "stderr",
     "output_type": "stream",
     "text": [
      "C:\\Users\\Shesc\\AppData\\Local\\Temp\\ipykernel_3988\\1815385635.py:4: RuntimeWarning: overflow encountered in scalar add\n",
      "  s += a[i]\n"
     ]
    },
    {
     "name": "stdout",
     "output_type": "stream",
     "text": [
      "1.43 s ± 73.9 ms per loop (mean ± std. dev. of 7 runs, 1 loop each)\n"
     ]
    }
   ],
   "source": [
    "%%timeit\n",
    "sum_vector_python(vec)"
   ]
  },
  {
   "cell_type": "code",
   "execution_count": 10,
   "id": "728db4c7",
   "metadata": {},
   "outputs": [
    {
     "name": "stdout",
     "output_type": "stream",
     "text": [
      "3.81 ms ± 61.3 µs per loop (mean ± std. dev. of 7 runs, 100 loops each)\n"
     ]
    }
   ],
   "source": [
    "%%timeit\n",
    "sum_vector_numpy(vec)"
   ]
  },
  {
   "cell_type": "code",
   "execution_count": 11,
   "id": "192b5184",
   "metadata": {},
   "outputs": [
    {
     "name": "stdout",
     "output_type": "stream",
     "text": [
      "2.38 ms ± 98.5 µs per loop (mean ± std. dev. of 7 runs, 100 loops each)\n"
     ]
    }
   ],
   "source": [
    "%%timeit\n",
    "sum_vector_numba_serial(vec)"
   ]
  },
  {
   "cell_type": "code",
   "execution_count": 12,
   "id": "a636b5ab",
   "metadata": {},
   "outputs": [
    {
     "name": "stdout",
     "output_type": "stream",
     "text": [
      "2.36 ms ± 55.9 µs per loop (mean ± std. dev. of 7 runs, 100 loops each)\n"
     ]
    }
   ],
   "source": [
    "%%timeit\n",
    "sum_vector_numba_parallel(vec)"
   ]
  },
  {
   "cell_type": "code",
   "execution_count": 13,
   "id": "842cbee4",
   "metadata": {},
   "outputs": [
    {
     "name": "stdout",
     "output_type": "stream",
     "text": [
      "1.51 ms ± 111 µs per loop (mean ± std. dev. of 7 runs, 1,000 loops each)\n"
     ]
    }
   ],
   "source": [
    "%%timeit\n",
    "sum_vector_numba_prange(vec)"
   ]
  },
  {
   "cell_type": "markdown",
   "id": "4d2f75c6",
   "metadata": {},
   "source": [
    "The number of threads used by Numba is stored in global variables."
   ]
  },
  {
   "cell_type": "code",
   "execution_count": 14,
   "id": "5e71e3e5",
   "metadata": {},
   "outputs": [
    {
     "name": "stdout",
     "output_type": "stream",
     "text": [
      "The number of available CPUs detected by Numba is: 6\n",
      "The number of threads used by Numba is: 6\n"
     ]
    }
   ],
   "source": [
    "from numba import config\n",
    "print(\"The number of available CPUs detected by Numba is:\", config.NUMBA_DEFAULT_NUM_THREADS)\n",
    "print(\"The number of threads used by Numba is:\", config.NUMBA_NUM_THREADS)"
   ]
  },
  {
   "cell_type": "markdown",
   "id": "b78e5700",
   "metadata": {},
   "source": [
    "The number of threads used by Numba can be changed manually."
   ]
  },
  {
   "cell_type": "code",
   "execution_count": 15,
   "id": "9c501c38",
   "metadata": {},
   "outputs": [
    {
     "name": "stdout",
     "output_type": "stream",
     "text": [
      "The current number of threads used by Numba is: 2\n"
     ]
    }
   ],
   "source": [
    "from numba import set_num_threads, get_num_threads\n",
    "set_num_threads(2)\n",
    "print(\"The current number of threads used by Numba is:\", get_num_threads())"
   ]
  },
  {
   "cell_type": "markdown",
   "id": "f120a2e1",
   "metadata": {},
   "source": [
    "Numba optimization diagnostics:"
   ]
  },
  {
   "cell_type": "code",
   "execution_count": 38,
   "id": "afebcd1a",
   "metadata": {},
   "outputs": [],
   "source": [
    "@jit(nopython=True, parallel=True)\n",
    "def multiple_prange(size):\n",
    "    s = 0\n",
    "    for i in prange(size):\n",
    "        for j in prange(size):\n",
    "            for l in prange(size):\n",
    "                for m in prange(size):\n",
    "                    s += i*j*l*m\n",
    "    return s   "
   ]
  },
  {
   "cell_type": "code",
   "execution_count": 39,
   "id": "e01c5131",
   "metadata": {},
   "outputs": [
    {
     "name": "stdout",
     "output_type": "stream",
     "text": [
      "CPU times: total: 78.1 ms\n",
      "Wall time: 469 ms\n",
      "3.79 ms ± 139 µs per loop (mean ± std. dev. of 7 runs, 100 loops each)\n"
     ]
    }
   ],
   "source": [
    "# Compilation:\n",
    "%time multiple_prange(100000000)\n",
    "%timeit multiple_prange(100000000)\n"
   ]
  },
  {
   "cell_type": "code",
   "execution_count": 40,
   "id": "9340dcab",
   "metadata": {},
   "outputs": [
    {
     "name": "stdout",
     "output_type": "stream",
     "text": [
      " \n",
      "================================================================================\n",
      " Parallel Accelerator Optimizing:  Function multiple_prange, \n",
      "C:\\Users\\Shesc\\AppData\\Local\\Temp\\ipykernel_3988\\3333088043.py (1)  \n",
      "================================================================================\n",
      "\n",
      "\n",
      "Parallel loop listing for  Function multiple_prange, C:\\Users\\Shesc\\AppData\\Local\\Temp\\ipykernel_3988\\3333088043.py (1) \n",
      "------------------------------------------|loop #ID\n",
      "@jit(nopython=True, parallel=True)        | \n",
      "def multiple_prange(size):                | \n",
      "    s = 0                                 | \n",
      "    for i in prange(size):----------------| #20\n",
      "        for j in prange(size):------------| #19\n",
      "            for l in prange(size):--------| #18\n",
      "                for m in prange(size):----| #17\n",
      "                    s += i*j*l*m          | \n",
      "    return s                              | \n",
      "--------------------------------- Fusing loops ---------------------------------\n",
      "Attempting fusion of parallel loops (combines loops with similar properties)...\n",
      "----------------------------- Before Optimisation ------------------------------\n",
      "Parallel region 0:\n",
      "+--20 (parallel)\n",
      "   +--19 (parallel)\n",
      "      +--18 (parallel)\n",
      "         +--17 (parallel)\n",
      "\n",
      "\n",
      "--------------------------------------------------------------------------------\n",
      "------------------------------ After Optimisation ------------------------------\n",
      "Parallel region 0:\n",
      "+--20 (parallel)\n",
      "   +--19 (serial)\n",
      "      +--18 (serial)\n",
      "         +--17 (serial)\n",
      "\n",
      "\n",
      " \n",
      "Parallel region 0 (loop #20) had 0 loop(s) fused and 3 loop(s) serialized as \n",
      "part of the larger parallel loop (#20).\n",
      "--------------------------------------------------------------------------------\n",
      "--------------------------------------------------------------------------------\n",
      " \n",
      "---------------------------Loop invariant code motion---------------------------\n",
      "Allocation hoisting:\n",
      "No allocation hoisting found\n",
      "\n",
      "Instruction hoisting:\n",
      "loop #20:\n",
      "  Failed to hoist the following:\n",
      "    dependency: i = $parfor__index_481.541\n",
      "    dependency: s_5 = s.4\n",
      "--------------------------------------------------------------------------------\n"
     ]
    }
   ],
   "source": [
    "multiple_prange.parallel_diagnostics(level=4)"
   ]
  },
  {
   "cell_type": "code",
   "execution_count": null,
   "id": "8810f0ae",
   "metadata": {},
   "outputs": [],
   "source": []
  }
 ],
 "metadata": {
  "kernelspec": {
   "display_name": "Python 3",
   "language": "python",
   "name": "python3"
  },
  "language_info": {
   "codemirror_mode": {
    "name": "ipython",
    "version": 3
   },
   "file_extension": ".py",
   "mimetype": "text/x-python",
   "name": "python",
   "nbconvert_exporter": "python",
   "pygments_lexer": "ipython3",
   "version": "3.12.3"
  }
 },
 "nbformat": 4,
 "nbformat_minor": 5
}
