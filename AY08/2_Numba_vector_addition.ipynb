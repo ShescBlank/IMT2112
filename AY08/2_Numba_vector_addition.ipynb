{
 "cells": [
  {
   "cell_type": "markdown",
   "id": "770a296f",
   "metadata": {},
   "source": [
    "# Basic usage of Numba\n",
    "\n",
    " - Elwin van 't Wout\n",
    " - Pontificia Universidad Católica de Chile\n",
    " - IMT3870\n",
    " - 28-8-2023\n",
    "\n",
    "Sum the values of a vector and compare the timing between Python, Numpy, and Numba."
   ]
  },
  {
   "cell_type": "code",
   "execution_count": 3,
   "id": "217c54e1",
   "metadata": {},
   "outputs": [],
   "source": [
    "import numpy as np\n",
    "from numba import jit"
   ]
  },
  {
   "cell_type": "code",
   "execution_count": 4,
   "metadata": {},
   "outputs": [
    {
     "data": {
      "text/plain": [
       "<function numba.core.decorators.jit(signature_or_function=None, locals={}, cache=False, pipeline_class=None, boundscheck=None, **options)>"
      ]
     },
     "execution_count": 4,
     "metadata": {},
     "output_type": "execute_result"
    }
   ],
   "source": [
    "jit"
   ]
  },
  {
   "cell_type": "code",
   "execution_count": 5,
   "id": "14629e10",
   "metadata": {},
   "outputs": [],
   "source": [
    "def sum_vector_python(a):\n",
    "    s = 0\n",
    "    for i in range(a.size):\n",
    "        s += a[i]\n",
    "    return s   "
   ]
  },
  {
   "cell_type": "code",
   "execution_count": 6,
   "id": "2f57b2ac",
   "metadata": {},
   "outputs": [],
   "source": [
    "def sum_vector_numpy(a):\n",
    "    s = np.sum(a)\n",
    "    return s   "
   ]
  },
  {
   "cell_type": "markdown",
   "id": "f366e150",
   "metadata": {},
   "source": [
    "For Numba, we can use exactly the same function as before but with the Numba decorator added.\n",
    "\n",
    "Use the option ```nopython=True``` to make use of the performance optimisation of Numba. Alternatively, one can use ```@njit```.\n",
    "\n",
    "Remark: earlier versions of Numba had the option of using ```nopython=False```, which basically ran the Python code as is, without any optimization. However, this option is deprecated and more recent versions do not support this functionality anymore."
   ]
  },
  {
   "cell_type": "code",
   "execution_count": 7,
   "id": "183a1d41",
   "metadata": {},
   "outputs": [],
   "source": [
    "@jit(nopython=True)\n",
    "def sum_vector_numba_nopython(a):\n",
    "    s = 0\n",
    "    for i in range(a.size):\n",
    "        s += a[i]\n",
    "    return s"
   ]
  },
  {
   "cell_type": "code",
   "execution_count": 8,
   "id": "d8a6f955-5a3f-4283-b222-66d19c76b91c",
   "metadata": {},
   "outputs": [],
   "source": [
    "@jit(nopython=False)\n",
    "def sum_vector_numba_python(a):\n",
    "    s = 0\n",
    "    for i in range(a.size):\n",
    "        s += a[i]\n",
    "    return s"
   ]
  },
  {
   "cell_type": "markdown",
   "id": "f2644c21",
   "metadata": {},
   "source": [
    "Let us create a vector with elements $0,1,2,\\dots,n-1$ and calculate the sum."
   ]
  },
  {
   "cell_type": "code",
   "execution_count": 9,
   "id": "6d76abcf",
   "metadata": {},
   "outputs": [],
   "source": [
    "n = int(1e7)\n",
    "vec = np.arange(n)"
   ]
  },
  {
   "cell_type": "markdown",
   "id": "c63e69dc",
   "metadata": {},
   "source": [
    "Be careful with the timing of the Numba function. The first call is always slow because the code needs to be compiled."
   ]
  },
  {
   "cell_type": "code",
   "execution_count": 10,
   "id": "d171e3dc",
   "metadata": {},
   "outputs": [
    {
     "name": "stdout",
     "output_type": "stream",
     "text": [
      "The 1st call to the Numba function took: 1.6288666725158691 seconds.\n",
      "The 2nd call to the Numba function took: 0.0023474693298339844 seconds.\n",
      "The 3rd call to the Numba function took: 0.0020017623901367188 seconds.\n"
     ]
    }
   ],
   "source": [
    "import time\n",
    "time_1 = time.time()\n",
    "sum_vector_numba_nopython(vec)\n",
    "time_2 = time.time()\n",
    "sum_vector_numba_nopython(vec)\n",
    "time_3 = time.time()\n",
    "sum_vector_numba_nopython(vec)\n",
    "time_4 = time.time()\n",
    "print(\"The 1st call to the Numba function took:\",time_2-time_1,\"seconds.\")\n",
    "print(\"The 2nd call to the Numba function took:\",time_3-time_2,\"seconds.\")\n",
    "print(\"The 3rd call to the Numba function took:\",time_4-time_3,\"seconds.\")"
   ]
  },
  {
   "cell_type": "code",
   "execution_count": 11,
   "id": "d5f596ee-9fba-44df-b3ce-d31c017181d8",
   "metadata": {},
   "outputs": [
    {
     "name": "stdout",
     "output_type": "stream",
     "text": [
      "The 1st call to the Numba function took: 0.07104706764221191 seconds.\n",
      "The 2nd call to the Numba function took: 0.0019989013671875 seconds.\n",
      "The 3rd call to the Numba function took: 0.0020008087158203125 seconds.\n"
     ]
    }
   ],
   "source": [
    "import time\n",
    "time_1 = time.time()\n",
    "sum_vector_numba_python(vec)\n",
    "time_2 = time.time()\n",
    "sum_vector_numba_python(vec)\n",
    "time_3 = time.time()\n",
    "sum_vector_numba_python(vec)\n",
    "time_4 = time.time()\n",
    "print(\"The 1st call to the Numba function took:\",time_2-time_1,\"seconds.\")\n",
    "print(\"The 2nd call to the Numba function took:\",time_3-time_2,\"seconds.\")\n",
    "print(\"The 3rd call to the Numba function took:\",time_4-time_3,\"seconds.\")"
   ]
  },
  {
   "cell_type": "code",
   "execution_count": 12,
   "id": "c6814cce",
   "metadata": {},
   "outputs": [
    {
     "name": "stderr",
     "output_type": "stream",
     "text": [
      "C:\\Users\\Shesc\\AppData\\Local\\Temp\\ipykernel_5592\\1815385635.py:4: RuntimeWarning: overflow encountered in scalar add\n",
      "  s += a[i]\n"
     ]
    },
    {
     "name": "stdout",
     "output_type": "stream",
     "text": [
      "1.26 s ± 36.9 ms per loop (mean ± std. dev. of 7 runs, 1 loop each)\n"
     ]
    }
   ],
   "source": [
    "%%timeit\n",
    "sum_vector_python(vec)"
   ]
  },
  {
   "cell_type": "code",
   "execution_count": 13,
   "id": "728db4c7",
   "metadata": {},
   "outputs": [
    {
     "name": "stdout",
     "output_type": "stream",
     "text": [
      "3.7 ms ± 224 µs per loop (mean ± std. dev. of 7 runs, 100 loops each)\n"
     ]
    }
   ],
   "source": [
    "%%timeit\n",
    "sum_vector_numpy(vec)"
   ]
  },
  {
   "cell_type": "code",
   "execution_count": 14,
   "id": "192b5184",
   "metadata": {},
   "outputs": [
    {
     "name": "stdout",
     "output_type": "stream",
     "text": [
      "2.42 ms ± 50.3 µs per loop (mean ± std. dev. of 7 runs, 100 loops each)\n"
     ]
    }
   ],
   "source": [
    "%%timeit\n",
    "sum_vector_numba_nopython(vec)"
   ]
  },
  {
   "cell_type": "code",
   "execution_count": 15,
   "id": "a2bb42c8-e541-411b-be97-e6e251881f99",
   "metadata": {},
   "outputs": [
    {
     "name": "stdout",
     "output_type": "stream",
     "text": [
      "2.49 ms ± 89.2 µs per loop (mean ± std. dev. of 7 runs, 100 loops each)\n"
     ]
    }
   ],
   "source": [
    "%%timeit\n",
    "sum_vector_numba_python(vec)"
   ]
  },
  {
   "cell_type": "code",
   "execution_count": null,
   "id": "8c5670b1",
   "metadata": {},
   "outputs": [],
   "source": []
  }
 ],
 "metadata": {
  "kernelspec": {
   "display_name": "Python 3",
   "language": "python",
   "name": "python3"
  },
  "language_info": {
   "codemirror_mode": {
    "name": "ipython",
    "version": 3
   },
   "file_extension": ".py",
   "mimetype": "text/x-python",
   "name": "python",
   "nbconvert_exporter": "python",
   "pygments_lexer": "ipython3",
   "version": "3.12.3"
  }
 },
 "nbformat": 4,
 "nbformat_minor": 5
}
